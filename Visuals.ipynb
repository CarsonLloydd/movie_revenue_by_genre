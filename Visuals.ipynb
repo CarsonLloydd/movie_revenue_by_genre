{
 "cells": [
  {
   "cell_type": "code",
   "execution_count": 3,
   "metadata": {},
   "outputs": [],
   "source": [
    "import pandas as pd\n",
    "import matplotlib.pyplot as plt\n",
    "%matplotlib inline\n",
    "import joypy"
   ]
  },
  {
   "cell_type": "code",
   "execution_count": 4,
   "metadata": {},
   "outputs": [],
   "source": [
    "df15_19 = pd.read_csv('data/moviedf15_19data.csv')"
   ]
  },
  {
   "cell_type": "code",
   "execution_count": 5,
   "metadata": {},
   "outputs": [],
   "source": [
    "df10_14 = pd.read_csv('data/movies_2010_to_2014_data.csv')"
   ]
  },
  {
   "cell_type": "code",
   "execution_count": 6,
   "metadata": {},
   "outputs": [],
   "source": [
    "df15_19 = df15_19.rename(columns={'Unnamed: 0' : 'ry_rank'})"
   ]
  },
  {
   "cell_type": "code",
   "execution_count": 7,
   "metadata": {},
   "outputs": [],
   "source": [
    "df10_14 = df10_14.rename(columns={'Unnamed: 0' : 'ry_rank'})"
   ]
  },
  {
   "cell_type": "code",
   "execution_count": 8,
   "metadata": {},
   "outputs": [],
   "source": [
    "df15_19['ry_rank'] = df15_19['ry_rank'].add(1)"
   ]
  },
  {
   "cell_type": "code",
   "execution_count": 9,
   "metadata": {},
   "outputs": [],
   "source": [
    "df15_19 = df15_19[['ry_rank', 'name', 'rating', 'genre', 'gross', 'release_year']]"
   ]
  },
  {
   "cell_type": "code",
   "execution_count": 10,
   "metadata": {},
   "outputs": [
    {
     "data": {
      "text/html": [
       "<div>\n",
       "<style scoped>\n",
       "    .dataframe tbody tr th:only-of-type {\n",
       "        vertical-align: middle;\n",
       "    }\n",
       "\n",
       "    .dataframe tbody tr th {\n",
       "        vertical-align: top;\n",
       "    }\n",
       "\n",
       "    .dataframe thead th {\n",
       "        text-align: right;\n",
       "    }\n",
       "</style>\n",
       "<table border=\"1\" class=\"dataframe\">\n",
       "  <thead>\n",
       "    <tr style=\"text-align: right;\">\n",
       "      <th></th>\n",
       "      <th>ry_rank</th>\n",
       "      <th>name</th>\n",
       "      <th>rating</th>\n",
       "      <th>genre</th>\n",
       "      <th>gross</th>\n",
       "      <th>release_year</th>\n",
       "    </tr>\n",
       "  </thead>\n",
       "  <tbody>\n",
       "    <tr>\n",
       "      <td>0</td>\n",
       "      <td>1</td>\n",
       "      <td>Star Wars: Episode VII - The Force Awakens</td>\n",
       "      <td>PG-13</td>\n",
       "      <td>Action, Adventure, Sci-Fi</td>\n",
       "      <td>936.66</td>\n",
       "      <td>2015</td>\n",
       "    </tr>\n",
       "    <tr>\n",
       "      <td>1</td>\n",
       "      <td>2</td>\n",
       "      <td>Jurassic World</td>\n",
       "      <td>PG-13</td>\n",
       "      <td>Action, Adventure, Sci-Fi</td>\n",
       "      <td>652.27</td>\n",
       "      <td>2015</td>\n",
       "    </tr>\n",
       "    <tr>\n",
       "      <td>2</td>\n",
       "      <td>3</td>\n",
       "      <td>Avengers: Age of Ultron</td>\n",
       "      <td>PG-13</td>\n",
       "      <td>Action, Adventure, Sci-Fi</td>\n",
       "      <td>459.01</td>\n",
       "      <td>2015</td>\n",
       "    </tr>\n",
       "    <tr>\n",
       "      <td>3</td>\n",
       "      <td>4</td>\n",
       "      <td>Inside Out</td>\n",
       "      <td>PG</td>\n",
       "      <td>Animation, Adventure, Comedy</td>\n",
       "      <td>356.46</td>\n",
       "      <td>2015</td>\n",
       "    </tr>\n",
       "    <tr>\n",
       "      <td>4</td>\n",
       "      <td>5</td>\n",
       "      <td>Furious 7</td>\n",
       "      <td>PG-13</td>\n",
       "      <td>Action, Adventure, Thriller</td>\n",
       "      <td>353.01</td>\n",
       "      <td>2015</td>\n",
       "    </tr>\n",
       "  </tbody>\n",
       "</table>\n",
       "</div>"
      ],
      "text/plain": [
       "   ry_rank                                        name rating  \\\n",
       "0        1  Star Wars: Episode VII - The Force Awakens  PG-13   \n",
       "1        2                              Jurassic World  PG-13   \n",
       "2        3                     Avengers: Age of Ultron  PG-13   \n",
       "3        4                                  Inside Out     PG   \n",
       "4        5                                   Furious 7  PG-13   \n",
       "\n",
       "                          genre   gross  release_year  \n",
       "0     Action, Adventure, Sci-Fi  936.66          2015  \n",
       "1     Action, Adventure, Sci-Fi  652.27          2015  \n",
       "2     Action, Adventure, Sci-Fi  459.01          2015  \n",
       "3  Animation, Adventure, Comedy  356.46          2015  \n",
       "4   Action, Adventure, Thriller  353.01          2015  "
      ]
     },
     "execution_count": 10,
     "metadata": {},
     "output_type": "execute_result"
    }
   ],
   "source": [
    "df15_19.head()"
   ]
  },
  {
   "cell_type": "code",
   "execution_count": 11,
   "metadata": {},
   "outputs": [
    {
     "data": {
      "text/html": [
       "<div>\n",
       "<style scoped>\n",
       "    .dataframe tbody tr th:only-of-type {\n",
       "        vertical-align: middle;\n",
       "    }\n",
       "\n",
       "    .dataframe tbody tr th {\n",
       "        vertical-align: top;\n",
       "    }\n",
       "\n",
       "    .dataframe thead th {\n",
       "        text-align: right;\n",
       "    }\n",
       "</style>\n",
       "<table border=\"1\" class=\"dataframe\">\n",
       "  <thead>\n",
       "    <tr style=\"text-align: right;\">\n",
       "      <th></th>\n",
       "      <th>ry_rank</th>\n",
       "      <th>name</th>\n",
       "      <th>rating</th>\n",
       "      <th>genre</th>\n",
       "      <th>gross</th>\n",
       "      <th>release_year</th>\n",
       "    </tr>\n",
       "  </thead>\n",
       "  <tbody>\n",
       "    <tr>\n",
       "      <td>0</td>\n",
       "      <td>1</td>\n",
       "      <td>Toy Story 3</td>\n",
       "      <td>G</td>\n",
       "      <td>Animation, Adventure, Comedy</td>\n",
       "      <td>415.00</td>\n",
       "      <td>2010</td>\n",
       "    </tr>\n",
       "    <tr>\n",
       "      <td>1</td>\n",
       "      <td>2</td>\n",
       "      <td>Alice in Wonderland</td>\n",
       "      <td>PG</td>\n",
       "      <td>Adventure, Family, Fantasy</td>\n",
       "      <td>334.19</td>\n",
       "      <td>2010</td>\n",
       "    </tr>\n",
       "    <tr>\n",
       "      <td>2</td>\n",
       "      <td>3</td>\n",
       "      <td>Iron Man 2</td>\n",
       "      <td>PG-13</td>\n",
       "      <td>Action, Adventure, Sci-Fi</td>\n",
       "      <td>312.43</td>\n",
       "      <td>2010</td>\n",
       "    </tr>\n",
       "    <tr>\n",
       "      <td>3</td>\n",
       "      <td>4</td>\n",
       "      <td>The Twilight Saga: Eclipse</td>\n",
       "      <td>PG-13</td>\n",
       "      <td>Action, Adventure, Crime</td>\n",
       "      <td>300.53</td>\n",
       "      <td>2010</td>\n",
       "    </tr>\n",
       "    <tr>\n",
       "      <td>4</td>\n",
       "      <td>5</td>\n",
       "      <td>Harry Potter and the Deathly Hallows: Part 1</td>\n",
       "      <td>PG-13</td>\n",
       "      <td>Adventure, Family, Fantasy</td>\n",
       "      <td>295.98</td>\n",
       "      <td>2010</td>\n",
       "    </tr>\n",
       "  </tbody>\n",
       "</table>\n",
       "</div>"
      ],
      "text/plain": [
       "   ry_rank                                          name rating  \\\n",
       "0        1                                   Toy Story 3      G   \n",
       "1        2                           Alice in Wonderland     PG   \n",
       "2        3                                    Iron Man 2  PG-13   \n",
       "3        4                    The Twilight Saga: Eclipse  PG-13   \n",
       "4        5  Harry Potter and the Deathly Hallows: Part 1  PG-13   \n",
       "\n",
       "                          genre   gross  release_year  \n",
       "0  Animation, Adventure, Comedy  415.00          2010  \n",
       "1    Adventure, Family, Fantasy  334.19          2010  \n",
       "2     Action, Adventure, Sci-Fi  312.43          2010  \n",
       "3      Action, Adventure, Crime  300.53          2010  \n",
       "4    Adventure, Family, Fantasy  295.98          2010  "
      ]
     },
     "execution_count": 11,
     "metadata": {},
     "output_type": "execute_result"
    }
   ],
   "source": [
    "df10_14.head()"
   ]
  },
  {
   "cell_type": "code",
   "execution_count": 12,
   "metadata": {},
   "outputs": [],
   "source": [
    "totaldf = pd.concat([df10_14, df15_19])"
   ]
  },
  {
   "cell_type": "code",
   "execution_count": 12,
   "metadata": {},
   "outputs": [
    {
     "data": {
      "text/html": [
       "<div>\n",
       "<style scoped>\n",
       "    .dataframe tbody tr th:only-of-type {\n",
       "        vertical-align: middle;\n",
       "    }\n",
       "\n",
       "    .dataframe tbody tr th {\n",
       "        vertical-align: top;\n",
       "    }\n",
       "\n",
       "    .dataframe thead th {\n",
       "        text-align: right;\n",
       "    }\n",
       "</style>\n",
       "<table border=\"1\" class=\"dataframe\">\n",
       "  <thead>\n",
       "    <tr style=\"text-align: right;\">\n",
       "      <th></th>\n",
       "      <th>ry_rank</th>\n",
       "      <th>name</th>\n",
       "      <th>rating</th>\n",
       "      <th>genre</th>\n",
       "      <th>gross</th>\n",
       "      <th>release_year</th>\n",
       "    </tr>\n",
       "  </thead>\n",
       "  <tbody>\n",
       "    <tr>\n",
       "      <td>0</td>\n",
       "      <td>1</td>\n",
       "      <td>Toy Story 3</td>\n",
       "      <td>G</td>\n",
       "      <td>Animation, Adventure, Comedy</td>\n",
       "      <td>415.00</td>\n",
       "      <td>2010</td>\n",
       "    </tr>\n",
       "    <tr>\n",
       "      <td>1</td>\n",
       "      <td>2</td>\n",
       "      <td>Alice in Wonderland</td>\n",
       "      <td>PG</td>\n",
       "      <td>Adventure, Family, Fantasy</td>\n",
       "      <td>334.19</td>\n",
       "      <td>2010</td>\n",
       "    </tr>\n",
       "    <tr>\n",
       "      <td>2</td>\n",
       "      <td>3</td>\n",
       "      <td>Iron Man 2</td>\n",
       "      <td>PG-13</td>\n",
       "      <td>Action, Adventure, Sci-Fi</td>\n",
       "      <td>312.43</td>\n",
       "      <td>2010</td>\n",
       "    </tr>\n",
       "    <tr>\n",
       "      <td>3</td>\n",
       "      <td>4</td>\n",
       "      <td>The Twilight Saga: Eclipse</td>\n",
       "      <td>PG-13</td>\n",
       "      <td>Action, Adventure, Crime</td>\n",
       "      <td>300.53</td>\n",
       "      <td>2010</td>\n",
       "    </tr>\n",
       "    <tr>\n",
       "      <td>4</td>\n",
       "      <td>5</td>\n",
       "      <td>Harry Potter and the Deathly Hallows: Part 1</td>\n",
       "      <td>PG-13</td>\n",
       "      <td>Adventure, Family, Fantasy</td>\n",
       "      <td>295.98</td>\n",
       "      <td>2010</td>\n",
       "    </tr>\n",
       "    <tr>\n",
       "      <td>...</td>\n",
       "      <td>...</td>\n",
       "      <td>...</td>\n",
       "      <td>...</td>\n",
       "      <td>...</td>\n",
       "      <td>...</td>\n",
       "      <td>...</td>\n",
       "    </tr>\n",
       "    <tr>\n",
       "      <td>245</td>\n",
       "      <td>46</td>\n",
       "      <td>Maleficent: Mistress of Evil</td>\n",
       "      <td>PG</td>\n",
       "      <td>Adventure, Family, Fantasy</td>\n",
       "      <td>36.95</td>\n",
       "      <td>2019</td>\n",
       "    </tr>\n",
       "    <tr>\n",
       "      <td>246</td>\n",
       "      <td>47</td>\n",
       "      <td>The Intruder</td>\n",
       "      <td>PG-13</td>\n",
       "      <td>Drama, Horror, Mystery</td>\n",
       "      <td>35.42</td>\n",
       "      <td>2019</td>\n",
       "    </tr>\n",
       "    <tr>\n",
       "      <td>247</td>\n",
       "      <td>48</td>\n",
       "      <td>The Hustle</td>\n",
       "      <td>PG-13</td>\n",
       "      <td>Comedy, Crime</td>\n",
       "      <td>35.42</td>\n",
       "      <td>2019</td>\n",
       "    </tr>\n",
       "    <tr>\n",
       "      <td>248</td>\n",
       "      <td>49</td>\n",
       "      <td>Ad Astra</td>\n",
       "      <td>PG-13</td>\n",
       "      <td>Adventure, Drama, Mystery</td>\n",
       "      <td>35.40</td>\n",
       "      <td>2019</td>\n",
       "    </tr>\n",
       "    <tr>\n",
       "      <td>249</td>\n",
       "      <td>50</td>\n",
       "      <td>Cold Pursuit</td>\n",
       "      <td>R</td>\n",
       "      <td>Action, Crime, Drama</td>\n",
       "      <td>32.14</td>\n",
       "      <td>2019</td>\n",
       "    </tr>\n",
       "  </tbody>\n",
       "</table>\n",
       "<p>500 rows × 6 columns</p>\n",
       "</div>"
      ],
      "text/plain": [
       "     ry_rank                                          name rating  \\\n",
       "0          1                                   Toy Story 3      G   \n",
       "1          2                           Alice in Wonderland     PG   \n",
       "2          3                                    Iron Man 2  PG-13   \n",
       "3          4                    The Twilight Saga: Eclipse  PG-13   \n",
       "4          5  Harry Potter and the Deathly Hallows: Part 1  PG-13   \n",
       "..       ...                                           ...    ...   \n",
       "245       46                  Maleficent: Mistress of Evil     PG   \n",
       "246       47                                  The Intruder  PG-13   \n",
       "247       48                                    The Hustle  PG-13   \n",
       "248       49                                      Ad Astra  PG-13   \n",
       "249       50                                  Cold Pursuit      R   \n",
       "\n",
       "                            genre   gross  release_year  \n",
       "0    Animation, Adventure, Comedy  415.00          2010  \n",
       "1      Adventure, Family, Fantasy  334.19          2010  \n",
       "2       Action, Adventure, Sci-Fi  312.43          2010  \n",
       "3        Action, Adventure, Crime  300.53          2010  \n",
       "4      Adventure, Family, Fantasy  295.98          2010  \n",
       "..                            ...     ...           ...  \n",
       "245    Adventure, Family, Fantasy   36.95          2019  \n",
       "246        Drama, Horror, Mystery   35.42          2019  \n",
       "247                 Comedy, Crime   35.42          2019  \n",
       "248     Adventure, Drama, Mystery   35.40          2019  \n",
       "249          Action, Crime, Drama   32.14          2019  \n",
       "\n",
       "[500 rows x 6 columns]"
      ]
     },
     "execution_count": 12,
     "metadata": {},
     "output_type": "execute_result"
    }
   ],
   "source": [
    "totaldf"
   ]
  },
  {
   "cell_type": "code",
   "execution_count": 13,
   "metadata": {},
   "outputs": [
    {
     "data": {
      "text/plain": [
       "'Action'"
      ]
     },
     "execution_count": 13,
     "metadata": {},
     "output_type": "execute_result"
    }
   ],
   "source": [
    "totaldf['genre'][(totaldf['release_year'] >= 2015)].iloc[0].split(', ')[0]"
   ]
  },
  {
   "cell_type": "code",
   "execution_count": 13,
   "metadata": {},
   "outputs": [],
   "source": [
    "primg = []\n",
    "page = list(range(250))\n",
    "for x in page:\n",
    "    primg.append(totaldf['genre'].iloc[x].split(', ')[0])"
   ]
  },
  {
   "cell_type": "code",
   "execution_count": 14,
   "metadata": {},
   "outputs": [],
   "source": [
    "page = list(range(250))\n",
    "for x in page:\n",
    "    primg.append(totaldf['genre'][(totaldf['release_year'] >= 2015)].iloc[x].split(', ')[0])"
   ]
  },
  {
   "cell_type": "code",
   "execution_count": 15,
   "metadata": {},
   "outputs": [],
   "source": [
    "totaldf['primary_genre'] = primg"
   ]
  },
  {
   "cell_type": "code",
   "execution_count": 17,
   "metadata": {},
   "outputs": [
    {
     "data": {
      "text/html": [
       "<div>\n",
       "<style scoped>\n",
       "    .dataframe tbody tr th:only-of-type {\n",
       "        vertical-align: middle;\n",
       "    }\n",
       "\n",
       "    .dataframe tbody tr th {\n",
       "        vertical-align: top;\n",
       "    }\n",
       "\n",
       "    .dataframe thead th {\n",
       "        text-align: right;\n",
       "    }\n",
       "</style>\n",
       "<table border=\"1\" class=\"dataframe\">\n",
       "  <thead>\n",
       "    <tr style=\"text-align: right;\">\n",
       "      <th></th>\n",
       "      <th>ry_rank</th>\n",
       "      <th>name</th>\n",
       "      <th>rating</th>\n",
       "      <th>genre</th>\n",
       "      <th>gross</th>\n",
       "      <th>release_year</th>\n",
       "      <th>primary_genre</th>\n",
       "    </tr>\n",
       "  </thead>\n",
       "  <tbody>\n",
       "    <tr>\n",
       "      <td>0</td>\n",
       "      <td>1</td>\n",
       "      <td>Toy Story 3</td>\n",
       "      <td>G</td>\n",
       "      <td>Animation, Adventure, Comedy</td>\n",
       "      <td>415.00</td>\n",
       "      <td>2010</td>\n",
       "      <td>Animation</td>\n",
       "    </tr>\n",
       "    <tr>\n",
       "      <td>1</td>\n",
       "      <td>2</td>\n",
       "      <td>Alice in Wonderland</td>\n",
       "      <td>PG</td>\n",
       "      <td>Adventure, Family, Fantasy</td>\n",
       "      <td>334.19</td>\n",
       "      <td>2010</td>\n",
       "      <td>Adventure</td>\n",
       "    </tr>\n",
       "    <tr>\n",
       "      <td>2</td>\n",
       "      <td>3</td>\n",
       "      <td>Iron Man 2</td>\n",
       "      <td>PG-13</td>\n",
       "      <td>Action, Adventure, Sci-Fi</td>\n",
       "      <td>312.43</td>\n",
       "      <td>2010</td>\n",
       "      <td>Action</td>\n",
       "    </tr>\n",
       "    <tr>\n",
       "      <td>3</td>\n",
       "      <td>4</td>\n",
       "      <td>The Twilight Saga: Eclipse</td>\n",
       "      <td>PG-13</td>\n",
       "      <td>Action, Adventure, Crime</td>\n",
       "      <td>300.53</td>\n",
       "      <td>2010</td>\n",
       "      <td>Action</td>\n",
       "    </tr>\n",
       "    <tr>\n",
       "      <td>4</td>\n",
       "      <td>5</td>\n",
       "      <td>Harry Potter and the Deathly Hallows: Part 1</td>\n",
       "      <td>PG-13</td>\n",
       "      <td>Adventure, Family, Fantasy</td>\n",
       "      <td>295.98</td>\n",
       "      <td>2010</td>\n",
       "      <td>Adventure</td>\n",
       "    </tr>\n",
       "    <tr>\n",
       "      <td>...</td>\n",
       "      <td>...</td>\n",
       "      <td>...</td>\n",
       "      <td>...</td>\n",
       "      <td>...</td>\n",
       "      <td>...</td>\n",
       "      <td>...</td>\n",
       "      <td>...</td>\n",
       "    </tr>\n",
       "    <tr>\n",
       "      <td>245</td>\n",
       "      <td>46</td>\n",
       "      <td>Maleficent: Mistress of Evil</td>\n",
       "      <td>PG</td>\n",
       "      <td>Adventure, Family, Fantasy</td>\n",
       "      <td>36.95</td>\n",
       "      <td>2019</td>\n",
       "      <td>Adventure</td>\n",
       "    </tr>\n",
       "    <tr>\n",
       "      <td>246</td>\n",
       "      <td>47</td>\n",
       "      <td>The Intruder</td>\n",
       "      <td>PG-13</td>\n",
       "      <td>Drama, Horror, Mystery</td>\n",
       "      <td>35.42</td>\n",
       "      <td>2019</td>\n",
       "      <td>Drama</td>\n",
       "    </tr>\n",
       "    <tr>\n",
       "      <td>247</td>\n",
       "      <td>48</td>\n",
       "      <td>The Hustle</td>\n",
       "      <td>PG-13</td>\n",
       "      <td>Comedy, Crime</td>\n",
       "      <td>35.42</td>\n",
       "      <td>2019</td>\n",
       "      <td>Comedy</td>\n",
       "    </tr>\n",
       "    <tr>\n",
       "      <td>248</td>\n",
       "      <td>49</td>\n",
       "      <td>Ad Astra</td>\n",
       "      <td>PG-13</td>\n",
       "      <td>Adventure, Drama, Mystery</td>\n",
       "      <td>35.40</td>\n",
       "      <td>2019</td>\n",
       "      <td>Adventure</td>\n",
       "    </tr>\n",
       "    <tr>\n",
       "      <td>249</td>\n",
       "      <td>50</td>\n",
       "      <td>Cold Pursuit</td>\n",
       "      <td>R</td>\n",
       "      <td>Action, Crime, Drama</td>\n",
       "      <td>32.14</td>\n",
       "      <td>2019</td>\n",
       "      <td>Action</td>\n",
       "    </tr>\n",
       "  </tbody>\n",
       "</table>\n",
       "<p>500 rows × 7 columns</p>\n",
       "</div>"
      ],
      "text/plain": [
       "     ry_rank                                          name rating  \\\n",
       "0          1                                   Toy Story 3      G   \n",
       "1          2                           Alice in Wonderland     PG   \n",
       "2          3                                    Iron Man 2  PG-13   \n",
       "3          4                    The Twilight Saga: Eclipse  PG-13   \n",
       "4          5  Harry Potter and the Deathly Hallows: Part 1  PG-13   \n",
       "..       ...                                           ...    ...   \n",
       "245       46                  Maleficent: Mistress of Evil     PG   \n",
       "246       47                                  The Intruder  PG-13   \n",
       "247       48                                    The Hustle  PG-13   \n",
       "248       49                                      Ad Astra  PG-13   \n",
       "249       50                                  Cold Pursuit      R   \n",
       "\n",
       "                            genre   gross  release_year primary_genre  \n",
       "0    Animation, Adventure, Comedy  415.00          2010     Animation  \n",
       "1      Adventure, Family, Fantasy  334.19          2010     Adventure  \n",
       "2       Action, Adventure, Sci-Fi  312.43          2010        Action  \n",
       "3        Action, Adventure, Crime  300.53          2010        Action  \n",
       "4      Adventure, Family, Fantasy  295.98          2010     Adventure  \n",
       "..                            ...     ...           ...           ...  \n",
       "245    Adventure, Family, Fantasy   36.95          2019     Adventure  \n",
       "246        Drama, Horror, Mystery   35.42          2019         Drama  \n",
       "247                 Comedy, Crime   35.42          2019        Comedy  \n",
       "248     Adventure, Drama, Mystery   35.40          2019     Adventure  \n",
       "249          Action, Crime, Drama   32.14          2019        Action  \n",
       "\n",
       "[500 rows x 7 columns]"
      ]
     },
     "execution_count": 17,
     "metadata": {},
     "output_type": "execute_result"
    }
   ],
   "source": [
    "totaldf"
   ]
  },
  {
   "cell_type": "code",
   "execution_count": 18,
   "metadata": {},
   "outputs": [
    {
     "data": {
      "image/png": "[encoded data removed]",
      "text/plain": [
       "<Figure size 360x576 with 11 Axes>"
      ]
     },
     "metadata": {
      "needs_background": "light"
     },
     "output_type": "display_data"
    }
   ],
   "source": [
    "joypy.joyplot(totaldf, by = 'release_year', column = 'gross', figsize = (5,8))\n",
    "plt.show()"
   ]
  },
  {
   "cell_type": "code",
   "execution_count": 82,
   "metadata": {},
   "outputs": [],
   "source": [
    "genbygross = totaldf.groupby('primary_genre')['gross'].sum()"
   ]
  },
  {
   "cell_type": "code",
   "execution_count": 84,
   "metadata": {},
   "outputs": [
    {
     "data": {
      "text/plain": [
       "<matplotlib.axes._subplots.AxesSubplot at 0x1a221219b0>"
      ]
     },
     "execution_count": 84,
     "metadata": {},
     "output_type": "execute_result"
    },
    {
     "data": {
      "image/png": "[encoded data removed]",
      "text/plain": [
       "<Figure size 432x288 with 1 Axes>"
      ]
     },
     "metadata": {
      "needs_background": "light"
     },
     "output_type": "display_data"
    }
   ],
   "source": [
    "genbygross.plot(kind = 'bar')"
   ]
  },
  {
   "cell_type": "code",
   "execution_count": 88,
   "metadata": {},
   "outputs": [],
   "source": [
    "ratingbygross = totaldf.groupby('rating')['gross'].sum()"
   ]
  },
  {
   "cell_type": "code",
   "execution_count": 91,
   "metadata": {},
   "outputs": [
    {
     "data": {
      "text/plain": [
       "<matplotlib.axes._subplots.AxesSubplot at 0x1a21ad4be0>"
      ]
     },
     "execution_count": 91,
     "metadata": {},
     "output_type": "execute_result"
    },
    {
     "data": {
      "image/png": "[encoded data removed]",
      "text/plain": [
       "<Figure size 432x288 with 1 Axes>"
      ]
     },
     "metadata": {
      "needs_background": "light"
     },
     "output_type": "display_data"
    }
   ],
   "source": [
    "ratingbygross.plot(kind = 'bar')"
   ]
  },
  {
   "cell_type": "code",
   "execution_count": 21,
   "metadata": {},
   "outputs": [],
   "source": [
    "genre_totals = totaldf['primary_genre'].value_counts()"
   ]
  },
  {
   "cell_type": "code",
   "execution_count": 22,
   "metadata": {},
   "outputs": [
    {
     "data": {
      "text/plain": [
       "<matplotlib.axes._subplots.AxesSubplot at 0x1a1b0000f0>"
      ]
     },
     "execution_count": 22,
     "metadata": {},
     "output_type": "execute_result"
    },
    {
     "data": {
      "image/png": "[encoded data removed]",
      "text/plain": [
       "<Figure size 432x288 with 1 Axes>"
      ]
     },
     "metadata": {
      "needs_background": "light"
     },
     "output_type": "display_data"
    }
   ],
   "source": [
    "genre_totals.plot(kind = 'bar')"
   ]
  },
  {
   "cell_type": "code",
   "execution_count": 46,
   "metadata": {},
   "outputs": [
    {
     "data": {
      "text/html": [
       "<div>\n",
       "<style scoped>\n",
       "    .dataframe tbody tr th:only-of-type {\n",
       "        vertical-align: middle;\n",
       "    }\n",
       "\n",
       "    .dataframe tbody tr th {\n",
       "        vertical-align: top;\n",
       "    }\n",
       "\n",
       "    .dataframe thead th {\n",
       "        text-align: right;\n",
       "    }\n",
       "</style>\n",
       "<table border=\"1\" class=\"dataframe\">\n",
       "  <thead>\n",
       "    <tr style=\"text-align: right;\">\n",
       "      <th></th>\n",
       "      <th>ry_rank</th>\n",
       "      <th>name</th>\n",
       "      <th>rating</th>\n",
       "      <th>genre</th>\n",
       "      <th>gross</th>\n",
       "      <th>release_year</th>\n",
       "      <th>primary_genre</th>\n",
       "    </tr>\n",
       "  </thead>\n",
       "  <tbody>\n",
       "    <tr>\n",
       "      <td>0</td>\n",
       "      <td>1</td>\n",
       "      <td>Toy Story 3</td>\n",
       "      <td>G</td>\n",
       "      <td>Animation, Adventure, Comedy</td>\n",
       "      <td>415.00</td>\n",
       "      <td>2010</td>\n",
       "      <td>Animation</td>\n",
       "    </tr>\n",
       "    <tr>\n",
       "      <td>1</td>\n",
       "      <td>2</td>\n",
       "      <td>Alice in Wonderland</td>\n",
       "      <td>PG</td>\n",
       "      <td>Adventure, Family, Fantasy</td>\n",
       "      <td>334.19</td>\n",
       "      <td>2010</td>\n",
       "      <td>Adventure</td>\n",
       "    </tr>\n",
       "    <tr>\n",
       "      <td>2</td>\n",
       "      <td>3</td>\n",
       "      <td>Iron Man 2</td>\n",
       "      <td>PG-13</td>\n",
       "      <td>Action, Adventure, Sci-Fi</td>\n",
       "      <td>312.43</td>\n",
       "      <td>2010</td>\n",
       "      <td>Action</td>\n",
       "    </tr>\n",
       "    <tr>\n",
       "      <td>50</td>\n",
       "      <td>1</td>\n",
       "      <td>Harry Potter and the Deathly Hallows: Part 2</td>\n",
       "      <td>PG-13</td>\n",
       "      <td>Adventure, Drama, Fantasy</td>\n",
       "      <td>381.01</td>\n",
       "      <td>2011</td>\n",
       "      <td>Adventure</td>\n",
       "    </tr>\n",
       "    <tr>\n",
       "      <td>51</td>\n",
       "      <td>2</td>\n",
       "      <td>Transformers: Dark of the Moon</td>\n",
       "      <td>PG-13</td>\n",
       "      <td>Action, Adventure, Sci-Fi</td>\n",
       "      <td>352.39</td>\n",
       "      <td>2011</td>\n",
       "      <td>Action</td>\n",
       "    </tr>\n",
       "    <tr>\n",
       "      <td>52</td>\n",
       "      <td>3</td>\n",
       "      <td>The Twilight Saga: Breaking Dawn - Part 1</td>\n",
       "      <td>PG-13</td>\n",
       "      <td>Action, Adventure, Drama</td>\n",
       "      <td>281.29</td>\n",
       "      <td>2011</td>\n",
       "      <td>Action</td>\n",
       "    </tr>\n",
       "    <tr>\n",
       "      <td>100</td>\n",
       "      <td>1</td>\n",
       "      <td>The Avengers</td>\n",
       "      <td>PG-13</td>\n",
       "      <td>Action, Adventure, Sci-Fi</td>\n",
       "      <td>623.28</td>\n",
       "      <td>2012</td>\n",
       "      <td>Action</td>\n",
       "    </tr>\n",
       "    <tr>\n",
       "      <td>101</td>\n",
       "      <td>2</td>\n",
       "      <td>The Dark Knight Rises</td>\n",
       "      <td>PG-13</td>\n",
       "      <td>Action, Thriller</td>\n",
       "      <td>448.14</td>\n",
       "      <td>2012</td>\n",
       "      <td>Action</td>\n",
       "    </tr>\n",
       "    <tr>\n",
       "      <td>102</td>\n",
       "      <td>3</td>\n",
       "      <td>The Hunger Games</td>\n",
       "      <td>PG-13</td>\n",
       "      <td>Action, Adventure, Sci-Fi</td>\n",
       "      <td>408.01</td>\n",
       "      <td>2012</td>\n",
       "      <td>Action</td>\n",
       "    </tr>\n",
       "    <tr>\n",
       "      <td>150</td>\n",
       "      <td>1</td>\n",
       "      <td>The Hunger Games: Catching Fire</td>\n",
       "      <td>PG-13</td>\n",
       "      <td>Action, Adventure, Sci-Fi</td>\n",
       "      <td>424.67</td>\n",
       "      <td>2013</td>\n",
       "      <td>Action</td>\n",
       "    </tr>\n",
       "    <tr>\n",
       "      <td>151</td>\n",
       "      <td>2</td>\n",
       "      <td>Iron Man Three</td>\n",
       "      <td>PG-13</td>\n",
       "      <td>Action, Adventure, Sci-Fi</td>\n",
       "      <td>409.01</td>\n",
       "      <td>2013</td>\n",
       "      <td>Action</td>\n",
       "    </tr>\n",
       "    <tr>\n",
       "      <td>152</td>\n",
       "      <td>3</td>\n",
       "      <td>Frozen</td>\n",
       "      <td>PG</td>\n",
       "      <td>Animation, Adventure, Comedy</td>\n",
       "      <td>400.74</td>\n",
       "      <td>2013</td>\n",
       "      <td>Animation</td>\n",
       "    </tr>\n",
       "    <tr>\n",
       "      <td>200</td>\n",
       "      <td>1</td>\n",
       "      <td>American Sniper</td>\n",
       "      <td>R</td>\n",
       "      <td>Action, Biography, Drama</td>\n",
       "      <td>350.13</td>\n",
       "      <td>2014</td>\n",
       "      <td>Action</td>\n",
       "    </tr>\n",
       "    <tr>\n",
       "      <td>201</td>\n",
       "      <td>2</td>\n",
       "      <td>The Hunger Games: Mockingjay - Part 1</td>\n",
       "      <td>PG-13</td>\n",
       "      <td>Action, Adventure, Sci-Fi</td>\n",
       "      <td>337.14</td>\n",
       "      <td>2014</td>\n",
       "      <td>Action</td>\n",
       "    </tr>\n",
       "    <tr>\n",
       "      <td>202</td>\n",
       "      <td>3</td>\n",
       "      <td>Guardians of the Galaxy</td>\n",
       "      <td>PG-13</td>\n",
       "      <td>Action, Adventure, Comedy</td>\n",
       "      <td>333.18</td>\n",
       "      <td>2014</td>\n",
       "      <td>Action</td>\n",
       "    </tr>\n",
       "    <tr>\n",
       "      <td>0</td>\n",
       "      <td>1</td>\n",
       "      <td>Star Wars: Episode VII - The Force Awakens</td>\n",
       "      <td>PG-13</td>\n",
       "      <td>Action, Adventure, Sci-Fi</td>\n",
       "      <td>936.66</td>\n",
       "      <td>2015</td>\n",
       "      <td>Action</td>\n",
       "    </tr>\n",
       "    <tr>\n",
       "      <td>1</td>\n",
       "      <td>2</td>\n",
       "      <td>Jurassic World</td>\n",
       "      <td>PG-13</td>\n",
       "      <td>Action, Adventure, Sci-Fi</td>\n",
       "      <td>652.27</td>\n",
       "      <td>2015</td>\n",
       "      <td>Action</td>\n",
       "    </tr>\n",
       "    <tr>\n",
       "      <td>2</td>\n",
       "      <td>3</td>\n",
       "      <td>Avengers: Age of Ultron</td>\n",
       "      <td>PG-13</td>\n",
       "      <td>Action, Adventure, Sci-Fi</td>\n",
       "      <td>459.01</td>\n",
       "      <td>2015</td>\n",
       "      <td>Action</td>\n",
       "    </tr>\n",
       "    <tr>\n",
       "      <td>50</td>\n",
       "      <td>1</td>\n",
       "      <td>Rogue One: A Star Wars Story</td>\n",
       "      <td>PG-13</td>\n",
       "      <td>Action, Adventure, Sci-Fi</td>\n",
       "      <td>532.18</td>\n",
       "      <td>2016</td>\n",
       "      <td>Action</td>\n",
       "    </tr>\n",
       "    <tr>\n",
       "      <td>51</td>\n",
       "      <td>2</td>\n",
       "      <td>Finding Dory</td>\n",
       "      <td>PG</td>\n",
       "      <td>Animation, Adventure, Comedy</td>\n",
       "      <td>486.30</td>\n",
       "      <td>2016</td>\n",
       "      <td>Animation</td>\n",
       "    </tr>\n",
       "    <tr>\n",
       "      <td>52</td>\n",
       "      <td>3</td>\n",
       "      <td>Captain America: Civil War</td>\n",
       "      <td>PG-13</td>\n",
       "      <td>Action, Adventure, Sci-Fi</td>\n",
       "      <td>408.08</td>\n",
       "      <td>2016</td>\n",
       "      <td>Action</td>\n",
       "    </tr>\n",
       "    <tr>\n",
       "      <td>100</td>\n",
       "      <td>1</td>\n",
       "      <td>Star Wars: Episode VIII - The Last Jedi</td>\n",
       "      <td>PG-13</td>\n",
       "      <td>Action, Adventure, Fantasy</td>\n",
       "      <td>620.18</td>\n",
       "      <td>2017</td>\n",
       "      <td>Action</td>\n",
       "    </tr>\n",
       "    <tr>\n",
       "      <td>101</td>\n",
       "      <td>2</td>\n",
       "      <td>Beauty and the Beast</td>\n",
       "      <td>PG</td>\n",
       "      <td>Family, Fantasy, Musical</td>\n",
       "      <td>504.01</td>\n",
       "      <td>2017</td>\n",
       "      <td>Family</td>\n",
       "    </tr>\n",
       "    <tr>\n",
       "      <td>102</td>\n",
       "      <td>3</td>\n",
       "      <td>Wonder Woman</td>\n",
       "      <td>PG-13</td>\n",
       "      <td>Action, Adventure, Fantasy</td>\n",
       "      <td>412.56</td>\n",
       "      <td>2017</td>\n",
       "      <td>Action</td>\n",
       "    </tr>\n",
       "    <tr>\n",
       "      <td>150</td>\n",
       "      <td>1</td>\n",
       "      <td>Black Panther</td>\n",
       "      <td>PG-13</td>\n",
       "      <td>Action, Adventure, Sci-Fi</td>\n",
       "      <td>700.06</td>\n",
       "      <td>2018</td>\n",
       "      <td>Action</td>\n",
       "    </tr>\n",
       "    <tr>\n",
       "      <td>151</td>\n",
       "      <td>2</td>\n",
       "      <td>Avengers: Infinity War</td>\n",
       "      <td>PG-13</td>\n",
       "      <td>Action, Adventure, Sci-Fi</td>\n",
       "      <td>678.82</td>\n",
       "      <td>2018</td>\n",
       "      <td>Action</td>\n",
       "    </tr>\n",
       "    <tr>\n",
       "      <td>152</td>\n",
       "      <td>3</td>\n",
       "      <td>Incredibles 2</td>\n",
       "      <td>PG</td>\n",
       "      <td>Animation, Action, Adventure</td>\n",
       "      <td>608.58</td>\n",
       "      <td>2018</td>\n",
       "      <td>Animation</td>\n",
       "    </tr>\n",
       "    <tr>\n",
       "      <td>200</td>\n",
       "      <td>1</td>\n",
       "      <td>Avengers: Endgame</td>\n",
       "      <td>PG-13</td>\n",
       "      <td>Action, Adventure, Drama</td>\n",
       "      <td>858.37</td>\n",
       "      <td>2019</td>\n",
       "      <td>Action</td>\n",
       "    </tr>\n",
       "    <tr>\n",
       "      <td>201</td>\n",
       "      <td>2</td>\n",
       "      <td>The Lion King</td>\n",
       "      <td>PG</td>\n",
       "      <td>Animation, Adventure, Drama</td>\n",
       "      <td>540.08</td>\n",
       "      <td>2019</td>\n",
       "      <td>Animation</td>\n",
       "    </tr>\n",
       "    <tr>\n",
       "      <td>202</td>\n",
       "      <td>3</td>\n",
       "      <td>Toy Story 4</td>\n",
       "      <td>G</td>\n",
       "      <td>Animation, Adventure, Comedy</td>\n",
       "      <td>433.03</td>\n",
       "      <td>2019</td>\n",
       "      <td>Animation</td>\n",
       "    </tr>\n",
       "  </tbody>\n",
       "</table>\n",
       "</div>"
      ],
      "text/plain": [
       "     ry_rank                                          name rating  \\\n",
       "0          1                                   Toy Story 3      G   \n",
       "1          2                           Alice in Wonderland     PG   \n",
       "2          3                                    Iron Man 2  PG-13   \n",
       "50         1  Harry Potter and the Deathly Hallows: Part 2  PG-13   \n",
       "51         2                Transformers: Dark of the Moon  PG-13   \n",
       "52         3     The Twilight Saga: Breaking Dawn - Part 1  PG-13   \n",
       "100        1                                  The Avengers  PG-13   \n",
       "101        2                         The Dark Knight Rises  PG-13   \n",
       "102        3                              The Hunger Games  PG-13   \n",
       "150        1               The Hunger Games: Catching Fire  PG-13   \n",
       "151        2                                Iron Man Three  PG-13   \n",
       "152        3                                        Frozen     PG   \n",
       "200        1                               American Sniper      R   \n",
       "201        2         The Hunger Games: Mockingjay - Part 1  PG-13   \n",
       "202        3                       Guardians of the Galaxy  PG-13   \n",
       "0          1    Star Wars: Episode VII - The Force Awakens  PG-13   \n",
       "1          2                                Jurassic World  PG-13   \n",
       "2          3                       Avengers: Age of Ultron  PG-13   \n",
       "50         1                  Rogue One: A Star Wars Story  PG-13   \n",
       "51         2                                  Finding Dory     PG   \n",
       "52         3                    Captain America: Civil War  PG-13   \n",
       "100        1       Star Wars: Episode VIII - The Last Jedi  PG-13   \n",
       "101        2                          Beauty and the Beast     PG   \n",
       "102        3                                  Wonder Woman  PG-13   \n",
       "150        1                                 Black Panther  PG-13   \n",
       "151        2                        Avengers: Infinity War  PG-13   \n",
       "152        3                                 Incredibles 2     PG   \n",
       "200        1                             Avengers: Endgame  PG-13   \n",
       "201        2                                 The Lion King     PG   \n",
       "202        3                                   Toy Story 4      G   \n",
       "\n",
       "                            genre   gross  release_year primary_genre  \n",
       "0    Animation, Adventure, Comedy  415.00          2010     Animation  \n",
       "1      Adventure, Family, Fantasy  334.19          2010     Adventure  \n",
       "2       Action, Adventure, Sci-Fi  312.43          2010        Action  \n",
       "50      Adventure, Drama, Fantasy  381.01          2011     Adventure  \n",
       "51      Action, Adventure, Sci-Fi  352.39          2011        Action  \n",
       "52       Action, Adventure, Drama  281.29          2011        Action  \n",
       "100     Action, Adventure, Sci-Fi  623.28          2012        Action  \n",
       "101              Action, Thriller  448.14          2012        Action  \n",
       "102     Action, Adventure, Sci-Fi  408.01          2012        Action  \n",
       "150     Action, Adventure, Sci-Fi  424.67          2013        Action  \n",
       "151     Action, Adventure, Sci-Fi  409.01          2013        Action  \n",
       "152  Animation, Adventure, Comedy  400.74          2013     Animation  \n",
       "200      Action, Biography, Drama  350.13          2014        Action  \n",
       "201     Action, Adventure, Sci-Fi  337.14          2014        Action  \n",
       "202     Action, Adventure, Comedy  333.18          2014        Action  \n",
       "0       Action, Adventure, Sci-Fi  936.66          2015        Action  \n",
       "1       Action, Adventure, Sci-Fi  652.27          2015        Action  \n",
       "2       Action, Adventure, Sci-Fi  459.01          2015        Action  \n",
       "50      Action, Adventure, Sci-Fi  532.18          2016        Action  \n",
       "51   Animation, Adventure, Comedy  486.30          2016     Animation  \n",
       "52      Action, Adventure, Sci-Fi  408.08          2016        Action  \n",
       "100    Action, Adventure, Fantasy  620.18          2017        Action  \n",
       "101      Family, Fantasy, Musical  504.01          2017        Family  \n",
       "102    Action, Adventure, Fantasy  412.56          2017        Action  \n",
       "150     Action, Adventure, Sci-Fi  700.06          2018        Action  \n",
       "151     Action, Adventure, Sci-Fi  678.82          2018        Action  \n",
       "152  Animation, Action, Adventure  608.58          2018     Animation  \n",
       "200      Action, Adventure, Drama  858.37          2019        Action  \n",
       "201   Animation, Adventure, Drama  540.08          2019     Animation  \n",
       "202  Animation, Adventure, Comedy  433.03          2019     Animation  "
      ]
     },
     "execution_count": 46,
     "metadata": {},
     "output_type": "execute_result"
    }
   ],
   "source": [
    "totaldf[(totaldf['ry_rank'] <= 3)]"
   ]
  },
  {
   "cell_type": "code",
   "execution_count": 48,
   "metadata": {},
   "outputs": [
    {
     "data": {
      "image/png": "[encoded data removed]",
      "text/plain": [
       "<Figure size 432x288 with 1 Axes>"
      ]
     },
     "metadata": {
      "needs_background": "light"
     },
     "output_type": "display_data"
    }
   ],
   "source": [
    "top3moviegchart = top3past.plot(kind = 'bar')"
   ]
  },
  {
   "cell_type": "code",
   "execution_count": 52,
   "metadata": {},
   "outputs": [],
   "source": [
    "action = totaldf[(totaldf['primary_genre'] == 'Action')]"
   ]
  },
  {
   "cell_type": "code",
   "execution_count": 68,
   "metadata": {},
   "outputs": [
    {
     "data": {
      "text/plain": [
       "202"
      ]
     },
     "execution_count": 68,
     "metadata": {},
     "output_type": "execute_result"
    }
   ],
   "source": [
    "len(action)"
   ]
  },
  {
   "cell_type": "code",
   "execution_count": 67,
   "metadata": {},
   "outputs": [
    {
     "data": {
      "text/plain": [
       "2014    27\n",
       "2017    22\n",
       "2018    21\n",
       "2016    21\n",
       "2012    20\n",
       "2010    20\n",
       "2015    19\n",
       "2011    19\n",
       "2013    18\n",
       "2019    15\n",
       "Name: release_year, dtype: int64"
      ]
     },
     "execution_count": 67,
     "metadata": {},
     "output_type": "execute_result"
    }
   ],
   "source": [
    "action['release_year'].value_counts()"
   ]
  },
  {
   "cell_type": "code",
   "execution_count": 60,
   "metadata": {},
   "outputs": [
    {
     "data": {
      "text/html": [
       "<div>\n",
       "<style scoped>\n",
       "    .dataframe tbody tr th:only-of-type {\n",
       "        vertical-align: middle;\n",
       "    }\n",
       "\n",
       "    .dataframe tbody tr th {\n",
       "        vertical-align: top;\n",
       "    }\n",
       "\n",
       "    .dataframe thead th {\n",
       "        text-align: right;\n",
       "    }\n",
       "</style>\n",
       "<table border=\"1\" class=\"dataframe\">\n",
       "  <thead>\n",
       "    <tr style=\"text-align: right;\">\n",
       "      <th></th>\n",
       "      <th>ry_rank</th>\n",
       "      <th>gross</th>\n",
       "      <th>release_year</th>\n",
       "    </tr>\n",
       "  </thead>\n",
       "  <tbody>\n",
       "    <tr>\n",
       "      <td>count</td>\n",
       "      <td>202.000000</td>\n",
       "      <td>202.000000</td>\n",
       "      <td>202.000000</td>\n",
       "    </tr>\n",
       "    <tr>\n",
       "      <td>mean</td>\n",
       "      <td>22.836634</td>\n",
       "      <td>183.968366</td>\n",
       "      <td>2014.450495</td>\n",
       "    </tr>\n",
       "    <tr>\n",
       "      <td>std</td>\n",
       "      <td>15.054397</td>\n",
       "      <td>146.726839</td>\n",
       "      <td>2.785896</td>\n",
       "    </tr>\n",
       "    <tr>\n",
       "      <td>min</td>\n",
       "      <td>1.000000</td>\n",
       "      <td>32.140000</td>\n",
       "      <td>2010.000000</td>\n",
       "    </tr>\n",
       "    <tr>\n",
       "      <td>25%</td>\n",
       "      <td>9.250000</td>\n",
       "      <td>85.737500</td>\n",
       "      <td>2012.000000</td>\n",
       "    </tr>\n",
       "    <tr>\n",
       "      <td>50%</td>\n",
       "      <td>22.000000</td>\n",
       "      <td>130.870000</td>\n",
       "      <td>2014.000000</td>\n",
       "    </tr>\n",
       "    <tr>\n",
       "      <td>75%</td>\n",
       "      <td>36.000000</td>\n",
       "      <td>224.547500</td>\n",
       "      <td>2017.000000</td>\n",
       "    </tr>\n",
       "    <tr>\n",
       "      <td>max</td>\n",
       "      <td>50.000000</td>\n",
       "      <td>936.660000</td>\n",
       "      <td>2019.000000</td>\n",
       "    </tr>\n",
       "  </tbody>\n",
       "</table>\n",
       "</div>"
      ],
      "text/plain": [
       "          ry_rank       gross  release_year\n",
       "count  202.000000  202.000000    202.000000\n",
       "mean    22.836634  183.968366   2014.450495\n",
       "std     15.054397  146.726839      2.785896\n",
       "min      1.000000   32.140000   2010.000000\n",
       "25%      9.250000   85.737500   2012.000000\n",
       "50%     22.000000  130.870000   2014.000000\n",
       "75%     36.000000  224.547500   2017.000000\n",
       "max     50.000000  936.660000   2019.000000"
      ]
     },
     "execution_count": 60,
     "metadata": {},
     "output_type": "execute_result"
    }
   ],
   "source": [
    "action.describe()"
   ]
  },
  {
   "cell_type": "code",
   "execution_count": 96,
   "metadata": {},
   "outputs": [],
   "source": [
    "mop = copydf.groupby(['primary_genre', 'rating'])['gross'].median().head(9)"
   ]
  },
  {
   "cell_type": "code",
   "execution_count": 105,
   "metadata": {},
   "outputs": [
    {
     "data": {
      "image/png": "[encoded data removed]",
      "text/plain": [
       "<Figure size 720x576 with 1 Axes>"
      ]
     },
     "metadata": {
      "needs_background": "light"
     },
     "output_type": "display_data"
    },
    {
     "data": {
      "text/plain": [
       "<Figure size 432x288 with 0 Axes>"
      ]
     },
     "metadata": {},
     "output_type": "display_data"
    }
   ],
   "source": [
    "mop.plot(kind = 'bar', color = 'green', edgecolor = 'black', figsize = (10,8))\n",
    "plt.xlabel('action, animation, adventure by rating')\n",
    "plt.ylabel('Median box office gross in millions')\n",
    "plt.show()\n",
    "plt.savefig(fname='mediangross_by_genre.png', format='png');"
   ]
  },
  {
   "cell_type": "code",
   "execution_count": 16,
   "metadata": {},
   "outputs": [
    {
     "data": {
      "text/plain": [
       "primary_genre  rating\n",
       "Action         PG        117.710\n",
       "               PG-13     155.385\n",
       "               R          96.885\n",
       "Adventure      PG         99.220\n",
       "               PG-13     244.580\n",
       "               R          69.060\n",
       "Animation      G         148.260\n",
       "               PG        162.155\n",
       "               R          97.690\n",
       "Biography      PG         91.440\n",
       "               PG-13      95.980\n",
       "               R          96.370\n",
       "Comedy         PG         76.445\n",
       "               PG-13      85.280\n",
       "               R         100.415\n",
       "Crime          PG-13     102.830\n",
       "               R         102.520\n",
       "Documentary    G          73.010\n",
       "               R         117.220\n",
       "Drama          PG         73.860\n",
       "               PG-13     100.280\n",
       "Name: gross, dtype: float64"
      ]
     },
     "execution_count": 16,
     "metadata": {},
     "output_type": "execute_result"
    }
   ],
   "source": [
    "totaldf.groupby(['primary_genre', 'rating'])['gross'].median().head(21)"
   ]
  },
  {
   "cell_type": "code",
   "execution_count": 26,
   "metadata": {},
   "outputs": [],
   "source": [
    "action = totaldf[(totaldf['primary_genre'] == 'Action' )]"
   ]
  },
  {
   "cell_type": "code",
   "execution_count": 25,
   "metadata": {},
   "outputs": [],
   "source": [
    "animation = totaldf[(totaldf['primary_genre'] == 'Animation' )]"
   ]
  },
  {
   "cell_type": "code",
   "execution_count": 27,
   "metadata": {},
   "outputs": [],
   "source": [
    "comedy = totaldf[(totaldf['primary_genre'] == 'Comedy' )]"
   ]
  },
  {
   "cell_type": "code",
   "execution_count": 28,
   "metadata": {},
   "outputs": [],
   "source": [
    "aac = pd.concat([action, animation, comedy])"
   ]
  },
  {
   "cell_type": "code",
   "execution_count": 29,
   "metadata": {},
   "outputs": [
    {
     "data": {
      "text/html": [
       "<div>\n",
       "<style scoped>\n",
       "    .dataframe tbody tr th:only-of-type {\n",
       "        vertical-align: middle;\n",
       "    }\n",
       "\n",
       "    .dataframe tbody tr th {\n",
       "        vertical-align: top;\n",
       "    }\n",
       "\n",
       "    .dataframe thead th {\n",
       "        text-align: right;\n",
       "    }\n",
       "</style>\n",
       "<table border=\"1\" class=\"dataframe\">\n",
       "  <thead>\n",
       "    <tr style=\"text-align: right;\">\n",
       "      <th></th>\n",
       "      <th>ry_rank</th>\n",
       "      <th>name</th>\n",
       "      <th>rating</th>\n",
       "      <th>genre</th>\n",
       "      <th>gross</th>\n",
       "      <th>release_year</th>\n",
       "      <th>primary_genre</th>\n",
       "    </tr>\n",
       "  </thead>\n",
       "  <tbody>\n",
       "    <tr>\n",
       "      <td>2</td>\n",
       "      <td>3</td>\n",
       "      <td>Iron Man 2</td>\n",
       "      <td>PG-13</td>\n",
       "      <td>Action, Adventure, Sci-Fi</td>\n",
       "      <td>312.43</td>\n",
       "      <td>2010</td>\n",
       "      <td>Action</td>\n",
       "    </tr>\n",
       "    <tr>\n",
       "      <td>3</td>\n",
       "      <td>4</td>\n",
       "      <td>The Twilight Saga: Eclipse</td>\n",
       "      <td>PG-13</td>\n",
       "      <td>Action, Adventure, Crime</td>\n",
       "      <td>300.53</td>\n",
       "      <td>2010</td>\n",
       "      <td>Action</td>\n",
       "    </tr>\n",
       "    <tr>\n",
       "      <td>5</td>\n",
       "      <td>6</td>\n",
       "      <td>Inception</td>\n",
       "      <td>PG-13</td>\n",
       "      <td>Action, Adventure, Sci-Fi</td>\n",
       "      <td>292.58</td>\n",
       "      <td>2010</td>\n",
       "      <td>Action</td>\n",
       "    </tr>\n",
       "    <tr>\n",
       "      <td>10</td>\n",
       "      <td>11</td>\n",
       "      <td>The Karate Kid</td>\n",
       "      <td>PG</td>\n",
       "      <td>Action, Drama, Family</td>\n",
       "      <td>176.59</td>\n",
       "      <td>2010</td>\n",
       "      <td>Action</td>\n",
       "    </tr>\n",
       "    <tr>\n",
       "      <td>11</td>\n",
       "      <td>12</td>\n",
       "      <td>Tron</td>\n",
       "      <td>PG</td>\n",
       "      <td>Action, Adventure, Sci-Fi</td>\n",
       "      <td>172.06</td>\n",
       "      <td>2010</td>\n",
       "      <td>Action</td>\n",
       "    </tr>\n",
       "    <tr>\n",
       "      <td>...</td>\n",
       "      <td>...</td>\n",
       "      <td>...</td>\n",
       "      <td>...</td>\n",
       "      <td>...</td>\n",
       "      <td>...</td>\n",
       "      <td>...</td>\n",
       "      <td>...</td>\n",
       "    </tr>\n",
       "    <tr>\n",
       "      <td>226</td>\n",
       "      <td>27</td>\n",
       "      <td>Tyler Perry's A Madea Family Funeral</td>\n",
       "      <td>PG-13</td>\n",
       "      <td>Comedy</td>\n",
       "      <td>73.26</td>\n",
       "      <td>2019</td>\n",
       "      <td>Comedy</td>\n",
       "    </tr>\n",
       "    <tr>\n",
       "      <td>235</td>\n",
       "      <td>36</td>\n",
       "      <td>What Men Want</td>\n",
       "      <td>R</td>\n",
       "      <td>Comedy, Fantasy, Romance</td>\n",
       "      <td>54.61</td>\n",
       "      <td>2019</td>\n",
       "      <td>Comedy</td>\n",
       "    </tr>\n",
       "    <tr>\n",
       "      <td>236</td>\n",
       "      <td>37</td>\n",
       "      <td>Isn't It Romantic</td>\n",
       "      <td>PG-13</td>\n",
       "      <td>Comedy, Fantasy, Romance</td>\n",
       "      <td>48.79</td>\n",
       "      <td>2019</td>\n",
       "      <td>Comedy</td>\n",
       "    </tr>\n",
       "    <tr>\n",
       "      <td>242</td>\n",
       "      <td>43</td>\n",
       "      <td>Little</td>\n",
       "      <td>PG-13</td>\n",
       "      <td>Comedy, Fantasy, Romance</td>\n",
       "      <td>40.67</td>\n",
       "      <td>2019</td>\n",
       "      <td>Comedy</td>\n",
       "    </tr>\n",
       "    <tr>\n",
       "      <td>247</td>\n",
       "      <td>48</td>\n",
       "      <td>The Hustle</td>\n",
       "      <td>PG-13</td>\n",
       "      <td>Comedy, Crime</td>\n",
       "      <td>35.42</td>\n",
       "      <td>2019</td>\n",
       "      <td>Comedy</td>\n",
       "    </tr>\n",
       "  </tbody>\n",
       "</table>\n",
       "<p>357 rows × 7 columns</p>\n",
       "</div>"
      ],
      "text/plain": [
       "     ry_rank                                  name rating  \\\n",
       "2          3                            Iron Man 2  PG-13   \n",
       "3          4            The Twilight Saga: Eclipse  PG-13   \n",
       "5          6                             Inception  PG-13   \n",
       "10        11                        The Karate Kid     PG   \n",
       "11        12                                  Tron     PG   \n",
       "..       ...                                   ...    ...   \n",
       "226       27  Tyler Perry's A Madea Family Funeral  PG-13   \n",
       "235       36                         What Men Want      R   \n",
       "236       37                     Isn't It Romantic  PG-13   \n",
       "242       43                                Little  PG-13   \n",
       "247       48                            The Hustle  PG-13   \n",
       "\n",
       "                         genre   gross  release_year primary_genre  \n",
       "2    Action, Adventure, Sci-Fi  312.43          2010        Action  \n",
       "3     Action, Adventure, Crime  300.53          2010        Action  \n",
       "5    Action, Adventure, Sci-Fi  292.58          2010        Action  \n",
       "10       Action, Drama, Family  176.59          2010        Action  \n",
       "11   Action, Adventure, Sci-Fi  172.06          2010        Action  \n",
       "..                         ...     ...           ...           ...  \n",
       "226                     Comedy   73.26          2019        Comedy  \n",
       "235   Comedy, Fantasy, Romance   54.61          2019        Comedy  \n",
       "236   Comedy, Fantasy, Romance   48.79          2019        Comedy  \n",
       "242   Comedy, Fantasy, Romance   40.67          2019        Comedy  \n",
       "247              Comedy, Crime   35.42          2019        Comedy  \n",
       "\n",
       "[357 rows x 7 columns]"
      ]
     },
     "execution_count": 29,
     "metadata": {},
     "output_type": "execute_result"
    }
   ],
   "source": [
    "aac"
   ]
  },
  {
   "cell_type": "code",
   "execution_count": 30,
   "metadata": {},
   "outputs": [
    {
     "data": {
      "text/plain": [
       "primary_genre  rating\n",
       "Action         PG        117.710\n",
       "               PG-13     155.385\n",
       "               R          96.885\n",
       "Animation      G         148.260\n",
       "               PG        162.155\n",
       "               R          97.690\n",
       "Comedy         PG         76.445\n",
       "               PG-13      85.280\n",
       "               R         100.415\n",
       "Name: gross, dtype: float64"
      ]
     },
     "execution_count": 30,
     "metadata": {},
     "output_type": "execute_result"
    }
   ],
   "source": [
    "aac.groupby(['primary_genre', 'rating'])['gross'].median().head(21)"
   ]
  },
  {
   "cell_type": "code",
   "execution_count": 31,
   "metadata": {},
   "outputs": [],
   "source": [
    "topg = aac.groupby(['primary_genre', 'rating'])['gross'].median().head(21)"
   ]
  },
  {
   "cell_type": "code",
   "execution_count": 32,
   "metadata": {},
   "outputs": [
    {
     "data": {
      "image/png": "[encoded data removed]",
      "text/plain": [
       "<Figure size 720x576 with 1 Axes>"
      ]
     },
     "metadata": {
      "needs_background": "light"
     },
     "output_type": "display_data"
    },
    {
     "data": {
      "text/plain": [
       "<Figure size 432x288 with 0 Axes>"
      ]
     },
     "metadata": {},
     "output_type": "display_data"
    }
   ],
   "source": [
    "topg.plot(kind = 'bar', color = 'green', edgecolor = 'black', figsize = (10,8))\n",
    "plt.xlabel('Top grossing movie genres by rating')\n",
    "plt.ylabel('Median box office gross in millions')\n",
    "plt.show()\n",
    "plt.savefig(fname='mediangross_by_genre.png', format='png');"
   ]
  },
  {
   "cell_type": "code",
   "execution_count": null,
   "metadata": {},
   "outputs": [],
   "source": []
  }
 ],
 "metadata": {
  "kernelspec": {
   "display_name": "Python 3",
   "language": "python",
   "name": "python3"
  },
  "language_info": {
   "codemirror_mode": {
    "name": "ipython",
    "version": 3
   },
   "file_extension": ".py",
   "mimetype": "text/x-python",
   "name": "python",
   "nbconvert_exporter": "python",
   "pygments_lexer": "ipython3",
   "version": "3.6.9"
  }
 },
 "nbformat": 4,
 "nbformat_minor": 2
}
