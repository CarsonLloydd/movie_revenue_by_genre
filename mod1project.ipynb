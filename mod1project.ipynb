{
 "cells": [
  {
   "cell_type": "code",
   "execution_count": 2,
   "metadata": {},
   "outputs": [],
   "source": [
    "#importing the libraries I need\n",
    "import requests\n",
    "from bs4 import BeautifulSoup\n",
    "import pandas as pd"
   ]
  },
  {
   "cell_type": "code",
   "execution_count": 3,
   "metadata": {},
   "outputs": [],
   "source": [
    "#using requests to get the url for the web page I am using\n",
    "url = 'https://www.imdb.com/search/title/?year=2019&title_type=feature&sort=boxoffice_gross_us,desc'\n",
    "res = requests.get(url)"
   ]
  },
  {
   "cell_type": "code",
   "execution_count": 33,
   "metadata": {},
   "outputs": [],
   "source": [
    "url = 'https://www.imdb.com/search/title/?year=2018&title_type=feature&sort=boxoffice_gross_us,desc'\n",
    "res = requests.get(url)"
   ]
  },
  {
   "cell_type": "code",
   "execution_count": 42,
   "metadata": {},
   "outputs": [],
   "source": [
    "url = 'https://www.imdb.com/search/title/?title_type=feature&year=2017-01-01,2017-12-31&sort=boxoffice_gross_us,desc'\n",
    "res = requests.get(url)"
   ]
  },
  {
   "cell_type": "code",
   "execution_count": 51,
   "metadata": {},
   "outputs": [],
   "source": [
    "url = 'https://www.imdb.com/search/title/?sort=boxoffice_gross_us,desc&year=2016,2016'\n",
    "res = requests.get(url)"
   ]
  },
  {
   "cell_type": "code",
   "execution_count": 60,
   "metadata": {},
   "outputs": [],
   "source": [
    "url = 'https://www.imdb.com/search/title/?title_type=feature&year=2015-01-01,2015-12-31&sort=boxoffice_gross_us,desc'\n",
    "res = requests.get(url)"
   ]
  },
  {
   "cell_type": "code",
   "execution_count": 61,
   "metadata": {},
   "outputs": [
    {
     "name": "stdout",
     "output_type": "stream",
     "text": [
      "None\n"
     ]
    },
    {
     "data": {
      "text/plain": [
       "bs4.BeautifulSoup"
      ]
     },
     "execution_count": 61,
     "metadata": {},
     "output_type": "execute_result"
    }
   ],
   "source": [
    "#Creating BeautifulSoup object\n",
    "print(res.raise_for_status())\n",
    "soup = BeautifulSoup(res.text)\n",
    "type(soup)"
   ]
  },
  {
   "cell_type": "code",
   "execution_count": 62,
   "metadata": {},
   "outputs": [],
   "source": [
    "#finding where all the content I need is in the HTML\n",
    "table = soup.findAll('body')[0]"
   ]
  },
  {
   "cell_type": "code",
   "execution_count": 7,
   "metadata": {},
   "outputs": [
    {
     "data": {
      "text/plain": [
       "'Avengers: Endgame'"
      ]
     },
     "execution_count": 7,
     "metadata": {},
     "output_type": "execute_result"
    }
   ],
   "source": [
    "table.findAll('h3')[0].findAll('a')[0].contents[0]"
   ]
  },
  {
   "cell_type": "code",
   "execution_count": 247,
   "metadata": {},
   "outputs": [
    {
     "data": {
      "text/plain": [
       "'Action, Adventure, Sci-Fi'"
      ]
     },
     "execution_count": 247,
     "metadata": {},
     "output_type": "execute_result"
    }
   ],
   "source": [
    "table.findAll('p')[4].findAll('span')[4].contents[0].string.strip()"
   ]
  },
  {
   "cell_type": "code",
   "execution_count": 309,
   "metadata": {},
   "outputs": [
    {
     "data": {
      "text/plain": [
       "'PG-13'"
      ]
     },
     "execution_count": 309,
     "metadata": {},
     "output_type": "execute_result"
    }
   ],
   "source": [
    "table.findAll('p')[0].findAll('span')[0].contents[0]"
   ]
  },
  {
   "cell_type": "code",
   "execution_count": 299,
   "metadata": {},
   "outputs": [
    {
     "data": {
      "text/plain": [
       "'Avengers: Infinity War'"
      ]
     },
     "execution_count": 299,
     "metadata": {},
     "output_type": "execute_result"
    }
   ],
   "source": [
    "table.findAll('h3')[1].findAll('a')[0].contents[0]"
   ]
  },
  {
   "cell_type": "code",
   "execution_count": 230,
   "metadata": {},
   "outputs": [
    {
     "data": {
      "text/plain": [
       "'Animation, Action, Adventure'"
      ]
     },
     "execution_count": 230,
     "metadata": {},
     "output_type": "execute_result"
    }
   ],
   "source": [
    "table.findAll('p')[8].findAll('span')[4].contents[0].string.strip()"
   ]
  },
  {
   "cell_type": "code",
   "execution_count": 26,
   "metadata": {},
   "outputs": [
    {
     "data": {
      "text/plain": [
       "858.37"
      ]
     },
     "execution_count": 26,
     "metadata": {},
     "output_type": "execute_result"
    }
   ],
   "source": [
    "float(str(table.findAll('p')[3].findAll('span')[4].contents[0]).strip().replace('$','').replace('M',''))"
   ]
  },
  {
   "cell_type": "code",
   "execution_count": 63,
   "metadata": {},
   "outputs": [],
   "source": [
    "#Each movie name is found by h3 so this loop just appends every movie name (h3[0] through h3[49])\n",
    "#to the movie_names list. The website only shows 50 movies at a time, thats why range = 50\n",
    "movie_names = []\n",
    "page1 = list(range(50))\n",
    "for movie in page1:\n",
    "    movie_names.append(table.findAll('h3')[movie].findAll('a')[0].contents[0])"
   ]
  },
  {
   "cell_type": "code",
   "execution_count": 64,
   "metadata": {},
   "outputs": [],
   "source": [
    "#Each movie on the website contains 4 'p' values for things like rating, genre, and gross. This loop\n",
    "#appends every 4th p value to get the genre for each movie.\n",
    "movie_genres = []\n",
    "page1 = list(range(50))\n",
    "x=0\n",
    "for movie in page1:\n",
    "    movie_genres.append(table.findAll('p')[x].findAll('span')[4].contents[0].string.strip())\n",
    "    x += 4\n",
    "    continue"
   ]
  },
  {
   "cell_type": "code",
   "execution_count": 10,
   "metadata": {},
   "outputs": [
    {
     "data": {
      "text/plain": [
       "50"
      ]
     },
     "execution_count": 10,
     "metadata": {},
     "output_type": "execute_result"
    }
   ],
   "source": [
    "len(movie_names)"
   ]
  },
  {
   "cell_type": "code",
   "execution_count": 65,
   "metadata": {},
   "outputs": [],
   "source": [
    "#This loop again appends every 4th 'p' value but starts at p[3] \n",
    "#to get the gross for each movie\n",
    "movie_gross = []\n",
    "page1 = list(range(50))\n",
    "x=3\n",
    "for movie in page1:\n",
    "    movie_gross.append(float(str(table.findAll('p')[x].findAll('span')[4].contents[0]).strip().replace('$','').replace('M','')))\n",
    "    x += 4\n",
    "    continue"
   ]
  },
  {
   "cell_type": "code",
   "execution_count": 12,
   "metadata": {},
   "outputs": [
    {
     "data": {
      "text/plain": [
       "50"
      ]
     },
     "execution_count": 12,
     "metadata": {},
     "output_type": "execute_result"
    }
   ],
   "source": [
    "len(movie_gross)"
   ]
  },
  {
   "cell_type": "code",
   "execution_count": 66,
   "metadata": {},
   "outputs": [],
   "source": [
    "#Each 'p' value contains mutiple elements like ratings, and votes, so to determine the value\n",
    "#we need we used the 'span' index. \n",
    "movie_ratings = []\n",
    "page1 = list(range(50))\n",
    "x=0\n",
    "for movie in page1:\n",
    "    movie_ratings.append(table.findAll('p')[x].findAll('span')[0].contents[0])\n",
    "    x += 4\n",
    "    continue"
   ]
  },
  {
   "cell_type": "code",
   "execution_count": 7,
   "metadata": {},
   "outputs": [
    {
     "data": {
      "text/plain": [
       "50"
      ]
     },
     "execution_count": 7,
     "metadata": {},
     "output_type": "execute_result"
    }
   ],
   "source": [
    "len(movie_ratings)"
   ]
  },
  {
   "cell_type": "code",
   "execution_count": 16,
   "metadata": {},
   "outputs": [],
   "source": [
    "#creating an empty data frame and then creating new columns for every list we just made.\n",
    "moviedf2019 = pd.DataFrame()\n",
    "moviedf2019['name'] = movie_names\n",
    "moviedf2019['genre'] = movie_genres\n",
    "moviedf2019['gross'] = movie_gross\n",
    "moviedf2019['rating'] = movie_ratings\n",
    "moviedf2019['release_year'] = 2019"
   ]
  },
  {
   "cell_type": "code",
   "execution_count": 40,
   "metadata": {},
   "outputs": [],
   "source": [
    "moviedf2018 = pd.DataFrame()\n",
    "moviedf2018['name'] = movie_names\n",
    "moviedf2018['genre'] = movie_genres\n",
    "moviedf2018['gross'] = movie_gross\n",
    "moviedf2018['rating'] = movie_ratings\n",
    "moviedf2018['release_year'] = 2018"
   ]
  },
  {
   "cell_type": "code",
   "execution_count": 49,
   "metadata": {},
   "outputs": [],
   "source": [
    "moviedf2017 = pd.DataFrame()\n",
    "moviedf2017['name'] = movie_names\n",
    "moviedf2017['genre'] = movie_genres\n",
    "moviedf2017['gross'] = movie_gross\n",
    "moviedf2017['rating'] = movie_ratings\n",
    "moviedf2017['release_year'] = 2017"
   ]
  },
  {
   "cell_type": "code",
   "execution_count": 58,
   "metadata": {},
   "outputs": [],
   "source": [
    "moviedf2016 = pd.DataFrame()\n",
    "moviedf2016['name'] = movie_names\n",
    "moviedf2016['genre'] = movie_genres\n",
    "moviedf2016['gross'] = movie_gross\n",
    "moviedf2016['rating'] = movie_ratings\n",
    "moviedf2016['release_year'] = 2016"
   ]
  },
  {
   "cell_type": "code",
   "execution_count": 67,
   "metadata": {},
   "outputs": [],
   "source": [
    "moviedf2015 = pd.DataFrame()\n",
    "moviedf2015['name'] = movie_names\n",
    "moviedf2015['genre'] = movie_genres\n",
    "moviedf2015['gross'] = movie_gross\n",
    "moviedf2015['rating'] = movie_ratings\n",
    "moviedf2015['release_year'] = 2015"
   ]
  },
  {
   "cell_type": "code",
   "execution_count": 68,
   "metadata": {},
   "outputs": [
    {
     "data": {
      "text/html": [
       "<div>\n",
       "<style scoped>\n",
       "    .dataframe tbody tr th:only-of-type {\n",
       "        vertical-align: middle;\n",
       "    }\n",
       "\n",
       "    .dataframe tbody tr th {\n",
       "        vertical-align: top;\n",
       "    }\n",
       "\n",
       "    .dataframe thead th {\n",
       "        text-align: right;\n",
       "    }\n",
       "</style>\n",
       "<table border=\"1\" class=\"dataframe\">\n",
       "  <thead>\n",
       "    <tr style=\"text-align: right;\">\n",
       "      <th></th>\n",
       "      <th>name</th>\n",
       "      <th>genre</th>\n",
       "      <th>gross</th>\n",
       "      <th>rating</th>\n",
       "      <th>release_year</th>\n",
       "    </tr>\n",
       "  </thead>\n",
       "  <tbody>\n",
       "    <tr>\n",
       "      <td>0</td>\n",
       "      <td>Star Wars: Episode VII - The Force Awakens</td>\n",
       "      <td>Action, Adventure, Sci-Fi</td>\n",
       "      <td>936.66</td>\n",
       "      <td>PG-13</td>\n",
       "      <td>2015</td>\n",
       "    </tr>\n",
       "    <tr>\n",
       "      <td>1</td>\n",
       "      <td>Jurassic World</td>\n",
       "      <td>Action, Adventure, Sci-Fi</td>\n",
       "      <td>652.27</td>\n",
       "      <td>PG-13</td>\n",
       "      <td>2015</td>\n",
       "    </tr>\n",
       "    <tr>\n",
       "      <td>2</td>\n",
       "      <td>Avengers: Age of Ultron</td>\n",
       "      <td>Action, Adventure, Sci-Fi</td>\n",
       "      <td>459.01</td>\n",
       "      <td>PG-13</td>\n",
       "      <td>2015</td>\n",
       "    </tr>\n",
       "    <tr>\n",
       "      <td>3</td>\n",
       "      <td>Inside Out</td>\n",
       "      <td>Animation, Adventure, Comedy</td>\n",
       "      <td>356.46</td>\n",
       "      <td>PG</td>\n",
       "      <td>2015</td>\n",
       "    </tr>\n",
       "    <tr>\n",
       "      <td>4</td>\n",
       "      <td>Furious 7</td>\n",
       "      <td>Action, Adventure, Thriller</td>\n",
       "      <td>353.01</td>\n",
       "      <td>PG-13</td>\n",
       "      <td>2015</td>\n",
       "    </tr>\n",
       "    <tr>\n",
       "      <td>5</td>\n",
       "      <td>Minions</td>\n",
       "      <td>Animation, Adventure, Comedy</td>\n",
       "      <td>336.05</td>\n",
       "      <td>PG</td>\n",
       "      <td>2015</td>\n",
       "    </tr>\n",
       "    <tr>\n",
       "      <td>6</td>\n",
       "      <td>The Hunger Games: Mockingjay - Part 2</td>\n",
       "      <td>Action, Adventure, Sci-Fi</td>\n",
       "      <td>281.72</td>\n",
       "      <td>PG-13</td>\n",
       "      <td>2015</td>\n",
       "    </tr>\n",
       "    <tr>\n",
       "      <td>7</td>\n",
       "      <td>The Martian</td>\n",
       "      <td>Adventure, Drama, Sci-Fi</td>\n",
       "      <td>228.43</td>\n",
       "      <td>PG-13</td>\n",
       "      <td>2015</td>\n",
       "    </tr>\n",
       "    <tr>\n",
       "      <td>8</td>\n",
       "      <td>Cinderella</td>\n",
       "      <td>Drama, Family, Fantasy</td>\n",
       "      <td>201.15</td>\n",
       "      <td>PG</td>\n",
       "      <td>2015</td>\n",
       "    </tr>\n",
       "    <tr>\n",
       "      <td>9</td>\n",
       "      <td>Spectre</td>\n",
       "      <td>Action, Adventure, Thriller</td>\n",
       "      <td>200.07</td>\n",
       "      <td>PG-13</td>\n",
       "      <td>2015</td>\n",
       "    </tr>\n",
       "    <tr>\n",
       "      <td>10</td>\n",
       "      <td>Mission: Impossible - Rogue Nation</td>\n",
       "      <td>Action, Adventure, Thriller</td>\n",
       "      <td>195.04</td>\n",
       "      <td>PG-13</td>\n",
       "      <td>2015</td>\n",
       "    </tr>\n",
       "    <tr>\n",
       "      <td>11</td>\n",
       "      <td>Pitch Perfect 2</td>\n",
       "      <td>Comedy, Music</td>\n",
       "      <td>184.30</td>\n",
       "      <td>PG-13</td>\n",
       "      <td>2015</td>\n",
       "    </tr>\n",
       "    <tr>\n",
       "      <td>12</td>\n",
       "      <td>The Revenant</td>\n",
       "      <td>Action, Adventure, Biography</td>\n",
       "      <td>183.64</td>\n",
       "      <td>R</td>\n",
       "      <td>2015</td>\n",
       "    </tr>\n",
       "    <tr>\n",
       "      <td>13</td>\n",
       "      <td>Ant-Man</td>\n",
       "      <td>Action, Adventure, Comedy</td>\n",
       "      <td>180.20</td>\n",
       "      <td>PG-13</td>\n",
       "      <td>2015</td>\n",
       "    </tr>\n",
       "    <tr>\n",
       "      <td>14</td>\n",
       "      <td>Home</td>\n",
       "      <td>Animation, Adventure, Comedy</td>\n",
       "      <td>177.40</td>\n",
       "      <td>PG</td>\n",
       "      <td>2015</td>\n",
       "    </tr>\n",
       "    <tr>\n",
       "      <td>15</td>\n",
       "      <td>Hotel Transylvania 2</td>\n",
       "      <td>Animation, Comedy, Family</td>\n",
       "      <td>169.70</td>\n",
       "      <td>PG</td>\n",
       "      <td>2015</td>\n",
       "    </tr>\n",
       "    <tr>\n",
       "      <td>16</td>\n",
       "      <td>Fifty Shades of Grey</td>\n",
       "      <td>Drama, Romance, Thriller</td>\n",
       "      <td>166.17</td>\n",
       "      <td>R</td>\n",
       "      <td>2015</td>\n",
       "    </tr>\n",
       "    <tr>\n",
       "      <td>17</td>\n",
       "      <td>The SpongeBob Movie: Sponge Out of Water</td>\n",
       "      <td>Animation, Adventure, Comedy</td>\n",
       "      <td>162.99</td>\n",
       "      <td>PG</td>\n",
       "      <td>2015</td>\n",
       "    </tr>\n",
       "    <tr>\n",
       "      <td>18</td>\n",
       "      <td>Straight Outta Compton</td>\n",
       "      <td>Biography, Drama, History</td>\n",
       "      <td>161.20</td>\n",
       "      <td>R</td>\n",
       "      <td>2015</td>\n",
       "    </tr>\n",
       "    <tr>\n",
       "      <td>19</td>\n",
       "      <td>San Andreas</td>\n",
       "      <td>Action, Adventure, Drama</td>\n",
       "      <td>155.19</td>\n",
       "      <td>PG-13</td>\n",
       "      <td>2015</td>\n",
       "    </tr>\n",
       "    <tr>\n",
       "      <td>20</td>\n",
       "      <td>Mad Max: Fury Road</td>\n",
       "      <td>Action, Adventure, Sci-Fi</td>\n",
       "      <td>154.06</td>\n",
       "      <td>R</td>\n",
       "      <td>2015</td>\n",
       "    </tr>\n",
       "    <tr>\n",
       "      <td>21</td>\n",
       "      <td>Daddy's Home</td>\n",
       "      <td>Comedy, Family</td>\n",
       "      <td>150.36</td>\n",
       "      <td>PG-13</td>\n",
       "      <td>2015</td>\n",
       "    </tr>\n",
       "    <tr>\n",
       "      <td>22</td>\n",
       "      <td>Insurgent</td>\n",
       "      <td>Action, Adventure, Sci-Fi</td>\n",
       "      <td>130.18</td>\n",
       "      <td>PG-13</td>\n",
       "      <td>2015</td>\n",
       "    </tr>\n",
       "    <tr>\n",
       "      <td>23</td>\n",
       "      <td>The Peanuts Movie</td>\n",
       "      <td>Animation, Adventure, Comedy</td>\n",
       "      <td>130.18</td>\n",
       "      <td>G</td>\n",
       "      <td>2015</td>\n",
       "    </tr>\n",
       "    <tr>\n",
       "      <td>24</td>\n",
       "      <td>The Good Dinosaur</td>\n",
       "      <td>Animation, Adventure, Comedy</td>\n",
       "      <td>123.09</td>\n",
       "      <td>PG</td>\n",
       "      <td>2015</td>\n",
       "    </tr>\n",
       "    <tr>\n",
       "      <td>25</td>\n",
       "      <td>Spy</td>\n",
       "      <td>Action, Comedy, Crime</td>\n",
       "      <td>110.83</td>\n",
       "      <td>R</td>\n",
       "      <td>2015</td>\n",
       "    </tr>\n",
       "    <tr>\n",
       "      <td>26</td>\n",
       "      <td>Trainwreck</td>\n",
       "      <td>Comedy, Drama, Romance</td>\n",
       "      <td>110.21</td>\n",
       "      <td>R</td>\n",
       "      <td>2015</td>\n",
       "    </tr>\n",
       "    <tr>\n",
       "      <td>27</td>\n",
       "      <td>Creed</td>\n",
       "      <td>Drama, Sport</td>\n",
       "      <td>109.77</td>\n",
       "      <td>PG-13</td>\n",
       "      <td>2015</td>\n",
       "    </tr>\n",
       "    <tr>\n",
       "      <td>28</td>\n",
       "      <td>Tomorrowland</td>\n",
       "      <td>Action, Adventure, Family</td>\n",
       "      <td>93.44</td>\n",
       "      <td>PG</td>\n",
       "      <td>2015</td>\n",
       "    </tr>\n",
       "    <tr>\n",
       "      <td>29</td>\n",
       "      <td>Get Hard</td>\n",
       "      <td>Comedy, Crime</td>\n",
       "      <td>90.41</td>\n",
       "      <td>R</td>\n",
       "      <td>2015</td>\n",
       "    </tr>\n",
       "    <tr>\n",
       "      <td>30</td>\n",
       "      <td>Terminator Genisys</td>\n",
       "      <td>Action, Adventure, Sci-Fi</td>\n",
       "      <td>89.76</td>\n",
       "      <td>PG-13</td>\n",
       "      <td>2015</td>\n",
       "    </tr>\n",
       "    <tr>\n",
       "      <td>31</td>\n",
       "      <td>Sisters</td>\n",
       "      <td>Comedy</td>\n",
       "      <td>87.04</td>\n",
       "      <td>R</td>\n",
       "      <td>2015</td>\n",
       "    </tr>\n",
       "    <tr>\n",
       "      <td>32</td>\n",
       "      <td>Alvin and the Chipmunks: The Road Chip</td>\n",
       "      <td>Animation, Adventure, Comedy</td>\n",
       "      <td>85.89</td>\n",
       "      <td>PG</td>\n",
       "      <td>2015</td>\n",
       "    </tr>\n",
       "    <tr>\n",
       "      <td>33</td>\n",
       "      <td>Maze Runner: The Scorch Trials</td>\n",
       "      <td>Action, Sci-Fi, Thriller</td>\n",
       "      <td>81.70</td>\n",
       "      <td>PG-13</td>\n",
       "      <td>2015</td>\n",
       "    </tr>\n",
       "    <tr>\n",
       "      <td>34</td>\n",
       "      <td>Ted 2</td>\n",
       "      <td>Comedy</td>\n",
       "      <td>81.48</td>\n",
       "      <td>R</td>\n",
       "      <td>2015</td>\n",
       "    </tr>\n",
       "    <tr>\n",
       "      <td>35</td>\n",
       "      <td>Goosebumps</td>\n",
       "      <td>Adventure, Comedy, Family</td>\n",
       "      <td>80.08</td>\n",
       "      <td>PG</td>\n",
       "      <td>2015</td>\n",
       "    </tr>\n",
       "    <tr>\n",
       "      <td>36</td>\n",
       "      <td>Pixels</td>\n",
       "      <td>Action, Comedy, Sci-Fi</td>\n",
       "      <td>78.75</td>\n",
       "      <td>PG-13</td>\n",
       "      <td>2015</td>\n",
       "    </tr>\n",
       "    <tr>\n",
       "      <td>37</td>\n",
       "      <td>The Intern</td>\n",
       "      <td>Comedy, Drama</td>\n",
       "      <td>75.76</td>\n",
       "      <td>PG-13</td>\n",
       "      <td>2015</td>\n",
       "    </tr>\n",
       "    <tr>\n",
       "      <td>38</td>\n",
       "      <td>Bridge of Spies</td>\n",
       "      <td>Drama, History, Thriller</td>\n",
       "      <td>72.31</td>\n",
       "      <td>PG-13</td>\n",
       "      <td>2015</td>\n",
       "    </tr>\n",
       "    <tr>\n",
       "      <td>39</td>\n",
       "      <td>Paul Blart: Mall Cop 2</td>\n",
       "      <td>Action, Comedy, Crime</td>\n",
       "      <td>71.04</td>\n",
       "      <td>PG</td>\n",
       "      <td>2015</td>\n",
       "    </tr>\n",
       "    <tr>\n",
       "      <td>40</td>\n",
       "      <td>The Big Short</td>\n",
       "      <td>Biography, Comedy, Drama</td>\n",
       "      <td>70.26</td>\n",
       "      <td>R</td>\n",
       "      <td>2015</td>\n",
       "    </tr>\n",
       "    <tr>\n",
       "      <td>41</td>\n",
       "      <td>War Room</td>\n",
       "      <td>Drama</td>\n",
       "      <td>67.79</td>\n",
       "      <td>PG</td>\n",
       "      <td>2015</td>\n",
       "    </tr>\n",
       "    <tr>\n",
       "      <td>42</td>\n",
       "      <td>Magic Mike XXL</td>\n",
       "      <td>Comedy, Drama, Music</td>\n",
       "      <td>66.01</td>\n",
       "      <td>R</td>\n",
       "      <td>2015</td>\n",
       "    </tr>\n",
       "    <tr>\n",
       "      <td>43</td>\n",
       "      <td>The Visit</td>\n",
       "      <td>Horror, Mystery, Thriller</td>\n",
       "      <td>65.21</td>\n",
       "      <td>PG-13</td>\n",
       "      <td>2015</td>\n",
       "    </tr>\n",
       "    <tr>\n",
       "      <td>44</td>\n",
       "      <td>The Wedding Ringer</td>\n",
       "      <td>Comedy</td>\n",
       "      <td>64.46</td>\n",
       "      <td>R</td>\n",
       "      <td>2015</td>\n",
       "    </tr>\n",
       "    <tr>\n",
       "      <td>45</td>\n",
       "      <td>Black Mass</td>\n",
       "      <td>Biography, Crime, Drama</td>\n",
       "      <td>62.58</td>\n",
       "      <td>R</td>\n",
       "      <td>2015</td>\n",
       "    </tr>\n",
       "    <tr>\n",
       "      <td>46</td>\n",
       "      <td>Vacation</td>\n",
       "      <td>Adventure, Comedy</td>\n",
       "      <td>58.88</td>\n",
       "      <td>R</td>\n",
       "      <td>2015</td>\n",
       "    </tr>\n",
       "    <tr>\n",
       "      <td>47</td>\n",
       "      <td>The Perfect Guy</td>\n",
       "      <td>Crime, Drama, Horror</td>\n",
       "      <td>57.02</td>\n",
       "      <td>PG-13</td>\n",
       "      <td>2015</td>\n",
       "    </tr>\n",
       "    <tr>\n",
       "      <td>48</td>\n",
       "      <td>Joy</td>\n",
       "      <td>Drama</td>\n",
       "      <td>56.45</td>\n",
       "      <td>PG-13</td>\n",
       "      <td>2015</td>\n",
       "    </tr>\n",
       "    <tr>\n",
       "      <td>49</td>\n",
       "      <td>Fantastic Four</td>\n",
       "      <td>Action, Adventure, Drama</td>\n",
       "      <td>56.12</td>\n",
       "      <td>PG-13</td>\n",
       "      <td>2015</td>\n",
       "    </tr>\n",
       "  </tbody>\n",
       "</table>\n",
       "</div>"
      ],
      "text/plain": [
       "                                          name                         genre  \\\n",
       "0   Star Wars: Episode VII - The Force Awakens     Action, Adventure, Sci-Fi   \n",
       "1                               Jurassic World     Action, Adventure, Sci-Fi   \n",
       "2                      Avengers: Age of Ultron     Action, Adventure, Sci-Fi   \n",
       "3                                   Inside Out  Animation, Adventure, Comedy   \n",
       "4                                    Furious 7   Action, Adventure, Thriller   \n",
       "5                                      Minions  Animation, Adventure, Comedy   \n",
       "6        The Hunger Games: Mockingjay - Part 2     Action, Adventure, Sci-Fi   \n",
       "7                                  The Martian      Adventure, Drama, Sci-Fi   \n",
       "8                                   Cinderella        Drama, Family, Fantasy   \n",
       "9                                      Spectre   Action, Adventure, Thriller   \n",
       "10          Mission: Impossible - Rogue Nation   Action, Adventure, Thriller   \n",
       "11                             Pitch Perfect 2                 Comedy, Music   \n",
       "12                                The Revenant  Action, Adventure, Biography   \n",
       "13                                     Ant-Man     Action, Adventure, Comedy   \n",
       "14                                        Home  Animation, Adventure, Comedy   \n",
       "15                        Hotel Transylvania 2     Animation, Comedy, Family   \n",
       "16                        Fifty Shades of Grey      Drama, Romance, Thriller   \n",
       "17    The SpongeBob Movie: Sponge Out of Water  Animation, Adventure, Comedy   \n",
       "18                      Straight Outta Compton     Biography, Drama, History   \n",
       "19                                 San Andreas      Action, Adventure, Drama   \n",
       "20                          Mad Max: Fury Road     Action, Adventure, Sci-Fi   \n",
       "21                                Daddy's Home                Comedy, Family   \n",
       "22                                   Insurgent     Action, Adventure, Sci-Fi   \n",
       "23                           The Peanuts Movie  Animation, Adventure, Comedy   \n",
       "24                           The Good Dinosaur  Animation, Adventure, Comedy   \n",
       "25                                         Spy         Action, Comedy, Crime   \n",
       "26                                  Trainwreck        Comedy, Drama, Romance   \n",
       "27                                       Creed                  Drama, Sport   \n",
       "28                                Tomorrowland     Action, Adventure, Family   \n",
       "29                                    Get Hard                 Comedy, Crime   \n",
       "30                          Terminator Genisys     Action, Adventure, Sci-Fi   \n",
       "31                                     Sisters                        Comedy   \n",
       "32      Alvin and the Chipmunks: The Road Chip  Animation, Adventure, Comedy   \n",
       "33              Maze Runner: The Scorch Trials      Action, Sci-Fi, Thriller   \n",
       "34                                       Ted 2                        Comedy   \n",
       "35                                  Goosebumps     Adventure, Comedy, Family   \n",
       "36                                      Pixels        Action, Comedy, Sci-Fi   \n",
       "37                                  The Intern                 Comedy, Drama   \n",
       "38                             Bridge of Spies      Drama, History, Thriller   \n",
       "39                      Paul Blart: Mall Cop 2         Action, Comedy, Crime   \n",
       "40                               The Big Short      Biography, Comedy, Drama   \n",
       "41                                    War Room                         Drama   \n",
       "42                              Magic Mike XXL          Comedy, Drama, Music   \n",
       "43                                   The Visit     Horror, Mystery, Thriller   \n",
       "44                          The Wedding Ringer                        Comedy   \n",
       "45                                  Black Mass       Biography, Crime, Drama   \n",
       "46                                    Vacation             Adventure, Comedy   \n",
       "47                             The Perfect Guy          Crime, Drama, Horror   \n",
       "48                                         Joy                         Drama   \n",
       "49                              Fantastic Four      Action, Adventure, Drama   \n",
       "\n",
       "     gross rating  release_year  \n",
       "0   936.66  PG-13          2015  \n",
       "1   652.27  PG-13          2015  \n",
       "2   459.01  PG-13          2015  \n",
       "3   356.46     PG          2015  \n",
       "4   353.01  PG-13          2015  \n",
       "5   336.05     PG          2015  \n",
       "6   281.72  PG-13          2015  \n",
       "7   228.43  PG-13          2015  \n",
       "8   201.15     PG          2015  \n",
       "9   200.07  PG-13          2015  \n",
       "10  195.04  PG-13          2015  \n",
       "11  184.30  PG-13          2015  \n",
       "12  183.64      R          2015  \n",
       "13  180.20  PG-13          2015  \n",
       "14  177.40     PG          2015  \n",
       "15  169.70     PG          2015  \n",
       "16  166.17      R          2015  \n",
       "17  162.99     PG          2015  \n",
       "18  161.20      R          2015  \n",
       "19  155.19  PG-13          2015  \n",
       "20  154.06      R          2015  \n",
       "21  150.36  PG-13          2015  \n",
       "22  130.18  PG-13          2015  \n",
       "23  130.18      G          2015  \n",
       "24  123.09     PG          2015  \n",
       "25  110.83      R          2015  \n",
       "26  110.21      R          2015  \n",
       "27  109.77  PG-13          2015  \n",
       "28   93.44     PG          2015  \n",
       "29   90.41      R          2015  \n",
       "30   89.76  PG-13          2015  \n",
       "31   87.04      R          2015  \n",
       "32   85.89     PG          2015  \n",
       "33   81.70  PG-13          2015  \n",
       "34   81.48      R          2015  \n",
       "35   80.08     PG          2015  \n",
       "36   78.75  PG-13          2015  \n",
       "37   75.76  PG-13          2015  \n",
       "38   72.31  PG-13          2015  \n",
       "39   71.04     PG          2015  \n",
       "40   70.26      R          2015  \n",
       "41   67.79     PG          2015  \n",
       "42   66.01      R          2015  \n",
       "43   65.21  PG-13          2015  \n",
       "44   64.46      R          2015  \n",
       "45   62.58      R          2015  \n",
       "46   58.88      R          2015  \n",
       "47   57.02  PG-13          2015  \n",
       "48   56.45  PG-13          2015  \n",
       "49   56.12  PG-13          2015  "
      ]
     },
     "execution_count": 68,
     "metadata": {},
     "output_type": "execute_result"
    }
   ],
   "source": [
    "moviedf2015"
   ]
  },
  {
   "cell_type": "code",
   "execution_count": 69,
   "metadata": {},
   "outputs": [],
   "source": [
    "#combining new dataframe we just created for this select year to our current dataframe with\n",
    "#all of our other years\n",
    "moviedf15_19 = pd.concat([moviedf2015,moviedf2016,moviedf2017,moviedf2018,moviedf2019])"
   ]
  },
  {
   "cell_type": "code",
   "execution_count": 70,
   "metadata": {},
   "outputs": [
    {
     "data": {
      "text/html": [
       "<div>\n",
       "<style scoped>\n",
       "    .dataframe tbody tr th:only-of-type {\n",
       "        vertical-align: middle;\n",
       "    }\n",
       "\n",
       "    .dataframe tbody tr th {\n",
       "        vertical-align: top;\n",
       "    }\n",
       "\n",
       "    .dataframe thead th {\n",
       "        text-align: right;\n",
       "    }\n",
       "</style>\n",
       "<table border=\"1\" class=\"dataframe\">\n",
       "  <thead>\n",
       "    <tr style=\"text-align: right;\">\n",
       "      <th></th>\n",
       "      <th>name</th>\n",
       "      <th>genre</th>\n",
       "      <th>gross</th>\n",
       "      <th>rating</th>\n",
       "      <th>release_year</th>\n",
       "    </tr>\n",
       "  </thead>\n",
       "  <tbody>\n",
       "    <tr>\n",
       "      <td>0</td>\n",
       "      <td>Star Wars: Episode VII - The Force Awakens</td>\n",
       "      <td>Action, Adventure, Sci-Fi</td>\n",
       "      <td>936.66</td>\n",
       "      <td>PG-13</td>\n",
       "      <td>2015</td>\n",
       "    </tr>\n",
       "    <tr>\n",
       "      <td>1</td>\n",
       "      <td>Jurassic World</td>\n",
       "      <td>Action, Adventure, Sci-Fi</td>\n",
       "      <td>652.27</td>\n",
       "      <td>PG-13</td>\n",
       "      <td>2015</td>\n",
       "    </tr>\n",
       "    <tr>\n",
       "      <td>2</td>\n",
       "      <td>Avengers: Age of Ultron</td>\n",
       "      <td>Action, Adventure, Sci-Fi</td>\n",
       "      <td>459.01</td>\n",
       "      <td>PG-13</td>\n",
       "      <td>2015</td>\n",
       "    </tr>\n",
       "    <tr>\n",
       "      <td>3</td>\n",
       "      <td>Inside Out</td>\n",
       "      <td>Animation, Adventure, Comedy</td>\n",
       "      <td>356.46</td>\n",
       "      <td>PG</td>\n",
       "      <td>2015</td>\n",
       "    </tr>\n",
       "    <tr>\n",
       "      <td>4</td>\n",
       "      <td>Furious 7</td>\n",
       "      <td>Action, Adventure, Thriller</td>\n",
       "      <td>353.01</td>\n",
       "      <td>PG-13</td>\n",
       "      <td>2015</td>\n",
       "    </tr>\n",
       "    <tr>\n",
       "      <td>...</td>\n",
       "      <td>...</td>\n",
       "      <td>...</td>\n",
       "      <td>...</td>\n",
       "      <td>...</td>\n",
       "      <td>...</td>\n",
       "    </tr>\n",
       "    <tr>\n",
       "      <td>45</td>\n",
       "      <td>Maleficent: Mistress of Evil</td>\n",
       "      <td>Adventure, Family, Fantasy</td>\n",
       "      <td>36.95</td>\n",
       "      <td>PG</td>\n",
       "      <td>2019</td>\n",
       "    </tr>\n",
       "    <tr>\n",
       "      <td>46</td>\n",
       "      <td>The Intruder</td>\n",
       "      <td>Drama, Horror, Mystery</td>\n",
       "      <td>35.42</td>\n",
       "      <td>PG-13</td>\n",
       "      <td>2019</td>\n",
       "    </tr>\n",
       "    <tr>\n",
       "      <td>47</td>\n",
       "      <td>The Hustle</td>\n",
       "      <td>Comedy, Crime</td>\n",
       "      <td>35.42</td>\n",
       "      <td>PG-13</td>\n",
       "      <td>2019</td>\n",
       "    </tr>\n",
       "    <tr>\n",
       "      <td>48</td>\n",
       "      <td>Ad Astra</td>\n",
       "      <td>Adventure, Drama, Mystery</td>\n",
       "      <td>35.40</td>\n",
       "      <td>PG-13</td>\n",
       "      <td>2019</td>\n",
       "    </tr>\n",
       "    <tr>\n",
       "      <td>49</td>\n",
       "      <td>Cold Pursuit</td>\n",
       "      <td>Action, Crime, Drama</td>\n",
       "      <td>32.14</td>\n",
       "      <td>R</td>\n",
       "      <td>2019</td>\n",
       "    </tr>\n",
       "  </tbody>\n",
       "</table>\n",
       "<p>250 rows × 5 columns</p>\n",
       "</div>"
      ],
      "text/plain": [
       "                                          name                         genre  \\\n",
       "0   Star Wars: Episode VII - The Force Awakens     Action, Adventure, Sci-Fi   \n",
       "1                               Jurassic World     Action, Adventure, Sci-Fi   \n",
       "2                      Avengers: Age of Ultron     Action, Adventure, Sci-Fi   \n",
       "3                                   Inside Out  Animation, Adventure, Comedy   \n",
       "4                                    Furious 7   Action, Adventure, Thriller   \n",
       "..                                         ...                           ...   \n",
       "45                Maleficent: Mistress of Evil    Adventure, Family, Fantasy   \n",
       "46                                The Intruder        Drama, Horror, Mystery   \n",
       "47                                  The Hustle                 Comedy, Crime   \n",
       "48                                    Ad Astra     Adventure, Drama, Mystery   \n",
       "49                                Cold Pursuit          Action, Crime, Drama   \n",
       "\n",
       "     gross rating  release_year  \n",
       "0   936.66  PG-13          2015  \n",
       "1   652.27  PG-13          2015  \n",
       "2   459.01  PG-13          2015  \n",
       "3   356.46     PG          2015  \n",
       "4   353.01  PG-13          2015  \n",
       "..     ...    ...           ...  \n",
       "45   36.95     PG          2019  \n",
       "46   35.42  PG-13          2019  \n",
       "47   35.42  PG-13          2019  \n",
       "48   35.40  PG-13          2019  \n",
       "49   32.14      R          2019  \n",
       "\n",
       "[250 rows x 5 columns]"
      ]
     },
     "execution_count": 70,
     "metadata": {},
     "output_type": "execute_result"
    }
   ],
   "source": [
    "moviedf15_19"
   ]
  },
  {
   "cell_type": "code",
   "execution_count": null,
   "metadata": {},
   "outputs": [],
   "source": [
    "#export DataFrame to csv file\n",
    "moviedf15_19.to_csv(path_or_buf='~/Documents/movie_revenue_by_genre/moviedf15_19data.csv')"
   ]
  },
  {
   "cell_type": "code",
   "execution_count": null,
   "metadata": {},
   "outputs": [],
   "source": []
  }
 ],
 "metadata": {
  "kernelspec": {
   "display_name": "Python 3",
   "language": "python",
   "name": "python3"
  },
  "language_info": {
   "codemirror_mode": {
    "name": "ipython",
    "version": 3
   },
   "file_extension": ".py",
   "mimetype": "text/x-python",
   "name": "python",
   "nbconvert_exporter": "python",
   "pygments_lexer": "ipython3",
   "version": "3.6.9"
  }
 },
 "nbformat": 4,
 "nbformat_minor": 2
}
